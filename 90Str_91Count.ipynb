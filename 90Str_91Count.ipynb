{
  "cells": [
    {
      "cell_type": "markdown",
      "metadata": {
        "id": "view-in-github",
        "colab_type": "text"
      },
      "source": [
        "<a href=\"https://colab.research.google.com/github/25jhm/Exercise_2025/blob/main/90Str_91Count.ipynb\" target=\"_parent\"><img src=\"https://colab.research.google.com/assets/colab-badge.svg\" alt=\"Open In Colab\"/></a>"
      ]
    },
    {
      "cell_type": "code",
      "source": [
        "#Unite 90 예제\n",
        "num1=1234\n",
        "num2=3.14\n",
        "\n",
        "numstr1=str(num1)\n",
        "numstr2=str(num2)\n",
        "print('num1을 문자열로 변환한 값은 \"%s\"입니다.'%numstr1)\n",
        "print('num2을 문자열로 변환한 값은 \"%s\"입니다.'%numstr2)"
      ],
      "metadata": {
        "id": "rRPXZ_aZIVPR",
        "outputId": "f6222f9d-7ede-47d2-d411-52773977c1b8",
        "colab": {
          "base_uri": "https://localhost:8080/"
        }
      },
      "execution_count": 4,
      "outputs": [
        {
          "output_type": "stream",
          "name": "stdout",
          "text": [
            "num1을 문자열로 변환한 값은 \"1234\"입니다.\n",
            "num2을 문자열로 변환한 값은 \"3.14\"입니다.\n"
          ]
        }
      ]
    },
    {
      "cell_type": "code",
      "source": [
        "#Unite 91 예제\n",
        "txt='A lot of things occur each day, every day.'\n",
        "word_coint1=txt.count('o')\n",
        "word_coint2=txt.count('day')\n",
        "word_coint3=txt.count(' ')\n",
        "print(word_coint1)\n",
        "print(word_coint2)\n",
        "print(word_coint3)"
      ],
      "metadata": {
        "id": "fs5-Vk9SJBZ5",
        "outputId": "6ccab2ff-d1e1-455c-a698-4b1700c09a68",
        "colab": {
          "base_uri": "https://localhost:8080/"
        }
      },
      "execution_count": 7,
      "outputs": [
        {
          "output_type": "stream",
          "name": "stdout",
          "text": [
            "3\n",
            "2\n",
            "8\n"
          ]
        }
      ]
    }
  ],
  "metadata": {
    "colab": {
      "name": "Colab 시작하기",
      "toc_visible": true,
      "provenance": [],
      "include_colab_link": true
    },
    "kernelspec": {
      "display_name": "Python 3",
      "name": "python3"
    }
  },
  "nbformat": 4,
  "nbformat_minor": 0
}