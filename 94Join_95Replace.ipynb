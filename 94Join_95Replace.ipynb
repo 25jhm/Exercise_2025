{
  "cells": [
    {
      "cell_type": "markdown",
      "metadata": {
        "id": "view-in-github",
        "colab_type": "text"
      },
      "source": [
        "<a href=\"https://colab.research.google.com/github/25jhm/Exercise_2025/blob/main/94Join_95Replace.ipynb\" target=\"_parent\"><img src=\"https://colab.research.google.com/assets/colab-badge.svg\" alt=\"Open In Colab\"/></a>"
      ]
    },
    {
      "cell_type": "code",
      "source": [
        "#Unite 94 예제\n",
        "loglist=['2016/08/26 10:12:11','200','OK','이 또한 지나가리라']\n",
        "bond=';'\n",
        "log=bond.join(loglist)\n",
        "print(log)"
      ],
      "metadata": {
        "id": "8iPl08StMVXD",
        "outputId": "6233bfdf-997b-4c13-8b3e-ca41957e29c0",
        "colab": {
          "base_uri": "https://localhost:8080/"
        }
      },
      "execution_count": 12,
      "outputs": [
        {
          "output_type": "stream",
          "name": "stdout",
          "text": [
            "2016/08/26 10:12:11;200;OK;이 또한 지나가리라\n"
          ]
        }
      ]
    },
    {
      "cell_type": "code",
      "source": [
        "#Unite 94 예제\n",
        "txt='My password is 1234'\n",
        "ret1=txt.replace('1','0')\n",
        "ret2=txt.replace('1','python')\n",
        "print(ret1)\n",
        "print(ret2)\n",
        "\n",
        "txt='매일 많은 일들이 일아납니다.'\n",
        "ret3=txt.replace('매일','항상')\n",
        "ret4=ret3.replace('일','사건')\n",
        "print(ret3)\n",
        "print(ret4)"
      ],
      "metadata": {
        "id": "Ff0jnrWSM99g",
        "outputId": "cd6261d0-9a96-42dd-ed0c-0290e9d91308",
        "colab": {
          "base_uri": "https://localhost:8080/"
        }
      },
      "execution_count": 13,
      "outputs": [
        {
          "output_type": "stream",
          "name": "stdout",
          "text": [
            "My password is 0234\n",
            "My password is python234\n",
            "항상 많은 일들이 일아납니다.\n",
            "항상 많은 사건들이 사건아납니다.\n"
          ]
        }
      ]
    }
  ],
  "metadata": {
    "colab": {
      "name": "Colab 시작하기",
      "toc_visible": true,
      "provenance": [],
      "include_colab_link": true
    },
    "kernelspec": {
      "display_name": "Python 3",
      "name": "python3"
    }
  },
  "nbformat": 4,
  "nbformat_minor": 0
}