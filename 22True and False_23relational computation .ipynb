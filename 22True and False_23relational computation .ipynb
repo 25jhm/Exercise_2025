{
  "cells": [
    {
      "cell_type": "markdown",
      "metadata": {
        "id": "view-in-github",
        "colab_type": "text"
      },
      "source": [
        "<a href=\"https://colab.research.google.com/github/25jhm/Exercise_2025/blob/main/22True%20and%20False_23relational%20computation%20.ipynb\" target=\"_parent\"><img src=\"https://colab.research.google.com/assets/colab-badge.svg\" alt=\"Open In Colab\"/></a>"
      ]
    },
    {
      "cell_type": "code",
      "source": [
        "#Unite 22 예제\n",
        "a= True\n",
        "b= False\n",
        "print(a==1)\n",
        "print(b !=0)"
      ],
      "metadata": {
        "id": "YCrMlpEk9-Lz",
        "outputId": "4e360642-c3c0-4b88-cb3f-21764f020a2b",
        "colab": {
          "base_uri": "https://localhost:8080/"
        }
      },
      "execution_count": 12,
      "outputs": [
        {
          "output_type": "stream",
          "name": "stdout",
          "text": [
            "True\n",
            "False\n"
          ]
        }
      ]
    },
    {
      "cell_type": "code",
      "source": [
        "#Unite 23 예제\n",
        "x=1;y=2\n",
        "str1='abc';str2='python'\n",
        "print(x==y)\n",
        "print(x !=y)\n",
        "print(str1==str2)\n",
        "print(str2=='python')\n",
        "print(str1<str2)"
      ],
      "metadata": {
        "id": "KzE1Y3io-U-V",
        "outputId": "9c7e9ad5-59be-4d8b-9fd5-2a92d4060e83",
        "colab": {
          "base_uri": "https://localhost:8080/"
        }
      },
      "execution_count": 13,
      "outputs": [
        {
          "output_type": "stream",
          "name": "stdout",
          "text": [
            "False\n",
            "True\n",
            "False\n",
            "True\n",
            "True\n"
          ]
        }
      ]
    }
  ],
  "metadata": {
    "colab": {
      "name": "Colab 시작하기",
      "toc_visible": true,
      "provenance": [],
      "include_colab_link": true
    },
    "kernelspec": {
      "display_name": "Python 3",
      "name": "python3"
    }
  },
  "nbformat": 4,
  "nbformat_minor": 0
}