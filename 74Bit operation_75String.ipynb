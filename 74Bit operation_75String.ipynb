{
  "cells": [
    {
      "cell_type": "markdown",
      "metadata": {
        "id": "view-in-github",
        "colab_type": "text"
      },
      "source": [
        "<a href=\"https://colab.research.google.com/github/25jhm/Exercise_2025/blob/main/74Bit%20operation_75String.ipynb\" target=\"_parent\"><img src=\"https://colab.research.google.com/assets/colab-badge.svg\" alt=\"Open In Colab\"/></a>"
      ]
    },
    {
      "cell_type": "code",
      "source": [
        "#Unite 74 예제\n",
        "a=107\n",
        "b=(a>>4)&0x0f\n",
        "print(b)"
      ],
      "metadata": {
        "id": "_lc5ji_v5Wb3",
        "outputId": "d66704d0-a033-4adc-fff1-587aa53acff7",
        "colab": {
          "base_uri": "https://localhost:8080/"
        }
      },
      "execution_count": 1,
      "outputs": [
        {
          "output_type": "stream",
          "name": "stdout",
          "text": [
            "6\n"
          ]
        }
      ]
    },
    {
      "cell_type": "code",
      "source": [
        "#Unite 75 예제\n",
        "txt1='A tale that was not right'\n",
        "txt2='이 또한 지나가리라.'\n",
        "print(txt1[5])\n",
        "print(txt2[-2])"
      ],
      "metadata": {
        "id": "qSC8jWnW56wN",
        "outputId": "07cd3335-0a69-4b34-8a97-8931a5a1afc4",
        "colab": {
          "base_uri": "https://localhost:8080/"
        }
      },
      "execution_count": 2,
      "outputs": [
        {
          "output_type": "stream",
          "name": "stdout",
          "text": [
            "e\n",
            "라\n"
          ]
        }
      ]
    }
  ],
  "metadata": {
    "colab": {
      "name": "Colab 시작하기",
      "toc_visible": true,
      "provenance": [],
      "include_colab_link": true
    },
    "kernelspec": {
      "display_name": "Python 3",
      "name": "python3"
    }
  },
  "nbformat": 4,
  "nbformat_minor": 0
}