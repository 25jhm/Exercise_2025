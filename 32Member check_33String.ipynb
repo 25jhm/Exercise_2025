{
  "cells": [
    {
      "cell_type": "markdown",
      "metadata": {
        "id": "view-in-github",
        "colab_type": "text"
      },
      "source": [
        "<a href=\"https://colab.research.google.com/github/25jhm/Exercise_2025/blob/main/32Member%20check_33String.ipynb\" target=\"_parent\"><img src=\"https://colab.research.google.com/assets/colab-badge.svg\" alt=\"Open In Colab\"/></a>"
      ]
    },
    {
      "cell_type": "code",
      "source": [
        "#Unite 32 예제\n",
        "listdata=[1,2,3,4]\n",
        "retl=5 in listdata\n",
        "ret2=4 in listdata\n",
        "print(retl);print(ret2)\n",
        "strdata='abcde'\n",
        "ret3='c'in strdata\n",
        "ret4='I'in strdata\n",
        "print(ret3);print(ret4)"
      ],
      "metadata": {
        "id": "zy2yFqYJhuAf",
        "outputId": "4a68feb3-cc6c-47dc-b0eb-135d13c01f15",
        "colab": {
          "base_uri": "https://localhost:8080/"
        }
      },
      "execution_count": 2,
      "outputs": [
        {
          "output_type": "stream",
          "name": "stdout",
          "text": [
            "False\n",
            "True\n",
            "True\n",
            "False\n"
          ]
        }
      ]
    },
    {
      "cell_type": "code",
      "source": [
        "#Unite 33 예제\n",
        "strdatal='나는 파이썬 프로그래머 이다'\n",
        "strdata2=\"You are a programer\"\n",
        "strdata3=\"\"\"I love python. You love python too!\"\"\"\n",
        "strdata4=\"My son's name is John\"\n",
        "strdata5='문자열 \"abc\"의 길이는 3 입니다'"
      ],
      "metadata": {
        "id": "B1Mh2fb1jsPc"
      },
      "execution_count": 4,
      "outputs": []
    }
  ],
  "metadata": {
    "colab": {
      "name": "Colab 시작하기",
      "toc_visible": true,
      "provenance": [],
      "include_colab_link": true
    },
    "kernelspec": {
      "display_name": "Python 3",
      "name": "python3"
    }
  },
  "nbformat": 4,
  "nbformat_minor": 0
}