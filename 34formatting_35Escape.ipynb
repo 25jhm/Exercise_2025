{
  "cells": [
    {
      "cell_type": "markdown",
      "metadata": {
        "id": "view-in-github",
        "colab_type": "text"
      },
      "source": [
        "<a href=\"https://colab.research.google.com/github/25jhm/Exercise_2025/blob/main/34formatting_35Escape.ipynb\" target=\"_parent\"><img src=\"https://colab.research.google.com/assets/colab-badge.svg\" alt=\"Open In Colab\"/></a>"
      ]
    },
    {
      "cell_type": "code",
      "source": [
        "#Unite 34 예제\n",
        "txt1='자바';txt2='파이썬'\n",
        "num1=5;num2=10\n",
        "print('나는 %s보다 %s에 더 익숙합니다.'%(txt1,txt2))\n",
        "print('%s은 %s보다 %d배 더 쉽습니다.'%(txt2,txt1,num1))\n",
        "print('%d+%d=%d'%(num1,num2,num1+num2))\n",
        "print('작년 세계 경제 성장률은 전년에 비해%d%%포인트 증가했다.'%num1)"
      ],
      "metadata": {
        "id": "FleJv8ISl-lq",
        "outputId": "2ab156b8-da96-4100-df92-2b204a8c92af",
        "colab": {
          "base_uri": "https://localhost:8080/"
        }
      },
      "execution_count": 9,
      "outputs": [
        {
          "output_type": "stream",
          "name": "stdout",
          "text": [
            "나는 자바보다 파이썬에 더 익숙합니다.\n",
            "파이썬은 자바보다 5배 더 쉽습니다.\n",
            "5+10=15\n",
            "작년 세계 경제 성장률은 전년에 비해5%포인트 증가했다.\n"
          ]
        }
      ]
    },
    {
      "cell_type": "code",
      "source": [
        "from time import sleep\n",
        "for i in range(100):\n",
        "  msg='\\r진행률 %d%%'%(i+1)\n",
        "print(''*len(msg),end='')\n",
        "print(msg,end='')\n",
        "sleep(0.1)"
      ],
      "metadata": {
        "id": "Y1hJ8P7DoevS",
        "outputId": "11f35ec1-49c4-4ba6-f054-5826e576e36b",
        "colab": {
          "base_uri": "https://localhost:8080/"
        }
      },
      "execution_count": 13,
      "outputs": [
        {
          "output_type": "stream",
          "name": "stdout",
          "text": [
            "\r진행률 100%"
          ]
        }
      ]
    },
    {
      "cell_type": "code",
      "source": [
        "#Unite 35 예제\n",
        "print('나는 파이썬을 사랑합니다.\\n파이썬 자바보다 훨씬 쉽습니다')\n",
        "print('Name:Jhone Smitth\\tSex:male\\tAge:22')\n",
        "print('이 문장은 화면폭에 비해 너무 길어 보기가 힘듭니다.\\\n",
        "그래서\\\\Enter키를 이용해 문장을 연속 되도록 했습니다.')\n",
        "print('작은따옴표 (\\')와 큰 따옴표 (\")는 문자열을 정의 할 때 사용합니다.')"
      ],
      "metadata": {
        "id": "DigjlSb8rDdj",
        "outputId": "f02aa278-1d5d-4eff-de64-2c13e283b696",
        "colab": {
          "base_uri": "https://localhost:8080/"
        }
      },
      "execution_count": 16,
      "outputs": [
        {
          "output_type": "stream",
          "name": "stdout",
          "text": [
            "나는 파이썬을 사랑합니다.\n",
            "파이썬 자바보다 훨씬 쉽습니다\n",
            "Name:Jhone Smitth\tSex:male\tAge:22\n",
            "이 문장은 화면폭에 비해 너무 길어 보기가 힘듭니다.그래서\\Enter키를 이용해 문장을 연속 되도록 했습니다.\n",
            "작은따옴표 (')와 큰 따옴표 (\")는 문자열을 정의 할 때 사용합니다.\n"
          ]
        }
      ]
    }
  ],
  "metadata": {
    "colab": {
      "name": "Colab 시작하기",
      "toc_visible": true,
      "provenance": [],
      "include_colab_link": true
    },
    "kernelspec": {
      "display_name": "Python 3",
      "name": "python3"
    }
  },
  "nbformat": 4,
  "nbformat_minor": 0
}