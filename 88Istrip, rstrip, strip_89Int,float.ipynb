{
  "cells": [
    {
      "cell_type": "markdown",
      "metadata": {
        "id": "view-in-github",
        "colab_type": "text"
      },
      "source": [
        "<a href=\"https://colab.research.google.com/github/25jhm/Exercise_2025/blob/main/88Istrip%2C%20rstrip%2C%20strip_89Int%2Cfloat.ipynb\" target=\"_parent\"><img src=\"https://colab.research.google.com/assets/colab-badge.svg\" alt=\"Open In Colab\"/></a>"
      ]
    },
    {
      "cell_type": "code",
      "source": [
        "#Unite 88 예제\n",
        "txt=' 양쪽에 공백이 있는 문자열입니다. '\n",
        "ret1=txt.lstrip()\n",
        "ret2=txt.rstrip()\n",
        "ret3=txt.strip()\n",
        "print('<'+txt+'>')\n",
        "print('<'+ret1+'>')\n",
        "print('<'+ret2+'>')\n",
        "print('<'+ret3+'>')"
      ],
      "metadata": {
        "id": "Ofo4NoUMFUI8",
        "outputId": "75195ed7-737f-422f-8aa1-6283c2b133b8",
        "colab": {
          "base_uri": "https://localhost:8080/"
        }
      },
      "execution_count": 2,
      "outputs": [
        {
          "output_type": "stream",
          "name": "stdout",
          "text": [
            "< 양쪽에 공백이 있는 문자열입니다. >\n",
            "<양쪽에 공백이 있는 문자열입니다. >\n",
            "< 양쪽에 공백이 있는 문자열입니다.>\n",
            "<양쪽에 공백이 있는 문자열입니다.>\n"
          ]
        }
      ]
    },
    {
      "cell_type": "code",
      "source": [
        "#Unite 89 예제\n",
        "numstr=input('숫자를 입력하시오:')\n",
        "try:\n",
        "  num=int(numstr)\n",
        "  print('당신이 입력한 숫자는 정수<%d>입니다.'%num)\n",
        "except:\n",
        "  try:\n",
        "    num=float(numstr)\n",
        "    print('당신이 입력한 숫자는 실수<%f>입니다.'%num)\n",
        "  except:\n",
        "    print('+++숫자를 입략하세요~+++')"
      ],
      "metadata": {
        "id": "w1AoF0yHGzSQ",
        "outputId": "1c3c5717-04ea-4639-b640-aa20c8cd92a5",
        "colab": {
          "base_uri": "https://localhost:8080/"
        }
      },
      "execution_count": 3,
      "outputs": [
        {
          "output_type": "stream",
          "name": "stdout",
          "text": [
            "숫자를 입력하시오:1\n",
            "당신이 입력한 숫자는 정수<1>입니다.\n"
          ]
        }
      ]
    }
  ],
  "metadata": {
    "colab": {
      "name": "Colab 시작하기",
      "toc_visible": true,
      "provenance": [],
      "include_colab_link": true
    },
    "kernelspec": {
      "display_name": "Python 3",
      "name": "python3"
    }
  },
  "nbformat": 4,
  "nbformat_minor": 0
}