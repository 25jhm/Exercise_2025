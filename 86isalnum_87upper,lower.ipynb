{
  "cells": [
    {
      "cell_type": "markdown",
      "metadata": {
        "id": "view-in-github",
        "colab_type": "text"
      },
      "source": [
        "<a href=\"https://colab.research.google.com/github/25jhm/Exercise_2025/blob/main/86isalnum_87upper%2Clower.ipynb\" target=\"_parent\"><img src=\"https://colab.research.google.com/assets/colab-badge.svg\" alt=\"Open In Colab\"/></a>"
      ]
    },
    {
      "cell_type": "code",
      "source": [
        "#Unite 86 예제\n",
        "txt1='안녕하세요?'\n",
        "txt2='1.Title-제목을 넣으세요'\n",
        "txt3='3피오R2D2'\n",
        "ret1=txt1.isalnum()\n",
        "ret2=txt2.isalnum()\n",
        "ret3=txt3.isalnum()\n",
        "print(ret1)\n",
        "print(ret2)\n",
        "print(ret3)"
      ],
      "metadata": {
        "id": "x0eVRRDVC8Bd",
        "outputId": "3b63e054-faf4-4cdd-fc4b-ed5f5794903f",
        "colab": {
          "base_uri": "https://localhost:8080/"
        }
      },
      "execution_count": 15,
      "outputs": [
        {
          "output_type": "stream",
          "name": "stdout",
          "text": [
            "False\n",
            "False\n",
            "True\n"
          ]
        }
      ]
    },
    {
      "cell_type": "code",
      "source": [
        "#Unite 87 예제\n",
        "txt='A lot of Things occur each day.'\n",
        "ret1=txt.upper()\n",
        "ret2=txt.lower()\n",
        "print(ret1)\n",
        "print(ret2)"
      ],
      "metadata": {
        "id": "ecJ3J_HODm1J",
        "outputId": "9fb4e872-3b1d-4ce3-8f41-bc430d12f70a",
        "colab": {
          "base_uri": "https://localhost:8080/"
        }
      },
      "execution_count": 17,
      "outputs": [
        {
          "output_type": "stream",
          "name": "stdout",
          "text": [
            "A LOT OF THINGS OCCUR EACH DAY.\n",
            "a lot of things occur each day.\n"
          ]
        }
      ]
    }
  ],
  "metadata": {
    "colab": {
      "name": "Colab 시작하기",
      "toc_visible": true,
      "provenance": [],
      "include_colab_link": true
    },
    "kernelspec": {
      "display_name": "Python 3",
      "name": "python3"
    }
  },
  "nbformat": 4,
  "nbformat_minor": 0
}