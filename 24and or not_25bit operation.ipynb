{
  "cells": [
    {
      "cell_type": "markdown",
      "metadata": {
        "id": "view-in-github",
        "colab_type": "text"
      },
      "source": [
        "<a href=\"https://colab.research.google.com/github/25jhm/Exercise_2025/blob/main/24and%20or%20not_25bit%20operation.ipynb\" target=\"_parent\"><img src=\"https://colab.research.google.com/assets/colab-badge.svg\" alt=\"Open In Colab\"/></a>"
      ]
    },
    {
      "cell_type": "code",
      "source": [
        "#Unite 24 예제\n",
        "bool1=True; bool2=False;bool3=True;bool4=False\n",
        "print(bool1 and bool2)\n",
        "print(bool1 and bool3)\n",
        "print(bool2 or bool3)\n",
        "print(bool2 or bool4)\n",
        "print(not bool1)\n",
        "print(not bool2)"
      ],
      "metadata": {
        "id": "PL-cWL23_laA",
        "outputId": "b4803cac-941f-4bc0-cafd-fd2e3bc29556",
        "colab": {
          "base_uri": "https://localhost:8080/"
        }
      },
      "execution_count": 16,
      "outputs": [
        {
          "output_type": "stream",
          "name": "stdout",
          "text": [
            "False\n",
            "True\n",
            "True\n",
            "False\n",
            "False\n",
            "True\n"
          ]
        }
      ]
    },
    {
      "cell_type": "code",
      "source": [
        "#Unite 25 예제\n",
        "bit1=0x61\n",
        "bit2=0x62\n",
        "print(hex(bit1&bit2))\n",
        "print(hex(bit1|bit2))\n",
        "print(hex(bit1^bit2))\n",
        "print(hex(bit1>>1))\n",
        "print(hex(bit1<<2))"
      ],
      "metadata": {
        "id": "MwRMJNhdAzYf",
        "outputId": "e9cd3db8-81c2-4817-e1fa-90b52d318b6f",
        "colab": {
          "base_uri": "https://localhost:8080/"
        }
      },
      "execution_count": 18,
      "outputs": [
        {
          "output_type": "stream",
          "name": "stdout",
          "text": [
            "0x60\n",
            "0x63\n",
            "0x3\n",
            "0x30\n",
            "0x184\n"
          ]
        }
      ]
    }
  ],
  "metadata": {
    "colab": {
      "name": "Colab 시작하기",
      "toc_visible": true,
      "provenance": [],
      "include_colab_link": true
    },
    "kernelspec": {
      "display_name": "Python 3",
      "name": "python3"
    }
  },
  "nbformat": 4,
  "nbformat_minor": 0
}