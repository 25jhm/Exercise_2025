{
  "cells": [
    {
      "cell_type": "markdown",
      "metadata": {
        "id": "view-in-github",
        "colab_type": "text"
      },
      "source": [
        "<a href=\"https://colab.research.google.com/github/25jhm/Exercise_2025/blob/main/98Sorted%2CJoin_99Range.ipynb\" target=\"_parent\"><img src=\"https://colab.research.google.com/assets/colab-badge.svg\" alt=\"Open In Colab\"/></a>"
      ]
    },
    {
      "cell_type": "code",
      "source": [
        "#Unite 98 예제\n",
        "strdata=input('정렬한 문자열을 입력하시오:')\n",
        "ret1=sorted(strdata)\n",
        "ret2=sorted(strdata,reverse=True)\n",
        "print(ret1)\n",
        "print(ret2)\n",
        "ret1=''.join(ret1)\n",
        "ret2=''.join(ret2)\n",
        "print('오른차순으로 정렬된 문자열은 <'+ret1+'>입니다.')\n",
        "print('내림차순으로 정렬된 문자열은 <'+ret2+'>입니다.')"
      ],
      "metadata": {
        "id": "8OzvppZUPztk",
        "outputId": "7824928c-0cf9-4587-b656-13f34bac35ad",
        "colab": {
          "base_uri": "https://localhost:8080/"
        }
      },
      "execution_count": 16,
      "outputs": [
        {
          "output_type": "stream",
          "name": "stdout",
          "text": [
            "정렬한 문자열을 입력하시오:a가b다c나\n",
            "['a', 'b', 'c', '가', '나', '다']\n",
            "['다', '나', '가', 'c', 'b', 'a']\n",
            "오른차순으로 정렬된 문자열은 <abc가나다>입니다.\n",
            "내림차순으로 정렬된 문자열은 <다나가cba>입니다.\n"
          ]
        }
      ]
    },
    {
      "cell_type": "code",
      "source": [
        "#Unite 99 예제\n",
        "range1=range(10)\n",
        "range2=range(10,20)\n",
        "print(list(range1))\n",
        "print(list(range2))"
      ],
      "metadata": {
        "id": "1yCQYUepRYC8",
        "outputId": "1383efd6-e41b-494c-f58b-b23944749ca6",
        "colab": {
          "base_uri": "https://localhost:8080/"
        }
      },
      "execution_count": 17,
      "outputs": [
        {
          "output_type": "stream",
          "name": "stdout",
          "text": [
            "[0, 1, 2, 3, 4, 5, 6, 7, 8, 9]\n",
            "[10, 11, 12, 13, 14, 15, 16, 17, 18, 19]\n"
          ]
        }
      ]
    }
  ],
  "metadata": {
    "colab": {
      "name": "Colab 시작하기",
      "toc_visible": true,
      "provenance": [],
      "include_colab_link": true
    },
    "kernelspec": {
      "display_name": "Python 3",
      "name": "python3"
    }
  },
  "nbformat": 4,
  "nbformat_minor": 0
}