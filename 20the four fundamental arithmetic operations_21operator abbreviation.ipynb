{
  "cells": [
    {
      "cell_type": "markdown",
      "metadata": {
        "id": "view-in-github",
        "colab_type": "text"
      },
      "source": [
        "<a href=\"https://colab.research.google.com/github/25jhm/Exercise_2025/blob/main/20the%20four%20fundamental%20arithmetic%20operations_21operator%20abbreviation.ipynb\" target=\"_parent\"><img src=\"https://colab.research.google.com/assets/colab-badge.svg\" alt=\"Open In Colab\"/></a>"
      ]
    },
    {
      "cell_type": "code",
      "source": [
        "#Unite 20 예제\n",
        "a=2\n",
        "b=4\n",
        "ret1=a+b            #ret1=2+4=6\n",
        "ret2=a-b            #ret2=2-4=-2\n",
        "ret3=a*b            #ret3=2*4=8\n",
        "ret4=a/b            #ret4=2/4=0.5\n",
        "ret5=a**b           #ret5=2**4=16\n",
        "ret6=a+a*b/a        #ret6=2+2*4/2=6\n",
        "ret7=(a+b)*(a-b)    #ret7=(2+4)*(2-4)=-12\n",
        "ret8=a*b**a         #ret8=2*4**2=32"
      ],
      "metadata": {
        "id": "3BhB2zOn5vsU"
      },
      "execution_count": 10,
      "outputs": []
    },
    {
      "cell_type": "code",
      "source": [
        "#Unite 21 예제\n",
        "a=0\n",
        "a +=1  #a=a+1, a 값은 1\n",
        "a -=5  #a=a-5, a 값은 -4\n",
        "a *=2  #a=a*2, a 값은 -8\n",
        "a /=4  #a=a/4, a 값은 -2.0"
      ],
      "metadata": {
        "id": "4XkRxVGh7w38"
      },
      "execution_count": 11,
      "outputs": []
    }
  ],
  "metadata": {
    "colab": {
      "name": "Colab 시작하기",
      "toc_visible": true,
      "provenance": [],
      "include_colab_link": true
    },
    "kernelspec": {
      "display_name": "Python 3",
      "name": "python3"
    }
  },
  "nbformat": 4,
  "nbformat_minor": 0
}