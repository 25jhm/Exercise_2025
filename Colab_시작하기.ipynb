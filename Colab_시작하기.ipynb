{
  "cells": [
    {
      "cell_type": "markdown",
      "metadata": {
        "id": "view-in-github",
        "colab_type": "text"
      },
      "source": [
        "<a href=\"https://colab.research.google.com/github/25jhm/Exercise_2025/blob/main/Colab_%EC%8B%9C%EC%9E%91%ED%95%98%EA%B8%B0.ipynb\" target=\"_parent\"><img src=\"https://colab.research.google.com/assets/colab-badge.svg\" alt=\"Open In Colab\"/></a>"
      ]
    },
    {
      "cell_type": "code",
      "source": [
        "# Unit 6 예제\n",
        "int_data=1\n",
        "float_data=3.14\n",
        "complex_data= 1+5j\n",
        "str_data2= \"반갑습니다\"\n",
        "list_data=[1,2,3]\n",
        "tuple_data=(1,2,3)\n",
        "dict_data={0:'False',1:'True'}\n"
      ],
      "metadata": {
        "id": "kZzOIsLHaX5G"
      },
      "execution_count": 9,
      "outputs": []
    },
    {
      "cell_type": "code",
      "source": [
        "# Unit 7 예제\n",
        "a=200\n",
        "msg='I iove Python'\n",
        "list_data=['a','b','c']\n",
        "dict_data={'a':97,'b':98}\n",
        "print(a)\n",
        "print(msg)\n",
        "print(list_data)\n",
        "print(list_data[0])\n",
        "print(dict_data)\n",
        "print(dict_data['a'])"
      ],
      "metadata": {
        "id": "BX_HFsdKcEIc",
        "outputId": "95bbc58d-cbe7-4923-c3ee-77395d3cd014",
        "colab": {
          "base_uri": "https://localhost:8080/"
        }
      },
      "execution_count": 12,
      "outputs": [
        {
          "output_type": "stream",
          "name": "stdout",
          "text": [
            "200\n",
            "I iove Python\n",
            "['a', 'b', 'c']\n",
            "a\n",
            "{'a': 97, 'b': 98}\n",
            "97\n"
          ]
        }
      ]
    }
  ],
  "metadata": {
    "colab": {
      "name": "Colab 시작하기",
      "toc_visible": true,
      "provenance": [],
      "include_colab_link": true
    },
    "kernelspec": {
      "display_name": "Python 3",
      "name": "python3"
    }
  },
  "nbformat": 4,
  "nbformat_minor": 0
}