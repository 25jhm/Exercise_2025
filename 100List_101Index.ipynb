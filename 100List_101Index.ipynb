{
  "cells": [
    {
      "cell_type": "markdown",
      "metadata": {
        "id": "view-in-github",
        "colab_type": "text"
      },
      "source": [
        "<a href=\"https://colab.research.google.com/github/25jhm/Exercise_2025/blob/main/100List_101Index.ipynb\" target=\"_parent\"><img src=\"https://colab.research.google.com/assets/colab-badge.svg\" alt=\"Open In Colab\"/></a>"
      ]
    },
    {
      "cell_type": "code",
      "source": [
        "#Unite 100 예제\n",
        "listdata=[1,2,'a','b','c',[4,5,6]]\n",
        "val1=listdata[1]\n",
        "val2=listdata[3]\n",
        "val3=listdata[5][1]\n",
        "print(val1)\n",
        "print(val2)\n",
        "print(val3)"
      ],
      "metadata": {
        "id": "KfigS_xpSCuj",
        "outputId": "b4f87569-62a5-431a-82b9-5adfe19ce359",
        "colab": {
          "base_uri": "https://localhost:8080/"
        }
      },
      "execution_count": 19,
      "outputs": [
        {
          "output_type": "stream",
          "name": "stdout",
          "text": [
            "2\n",
            "b\n",
            "5\n"
          ]
        }
      ]
    },
    {
      "cell_type": "code",
      "source": [
        "#Unite 101 예제\n",
        "solarsys=['태양','수성','금성','지구','화성','목성','토성','천왕성','해왕성','지구']\n",
        "planet='지구'\n",
        "pos=solarsys.index(planet)\n",
        "print('%s은(는) 태앵계에서 %d번째 위치하고 있습니다.'%(planet,pos))\n",
        "pos=solarsys.index(planet,5)\n",
        "print('%s은(는) 태앵계에서 %d번째 위치하고 있습니다.'%(planet,pos))"
      ],
      "metadata": {
        "id": "qzUp397jSwHB",
        "outputId": "55255e4b-b7ff-4352-dca9-9f5e73e49f39",
        "colab": {
          "base_uri": "https://localhost:8080/"
        }
      },
      "execution_count": 20,
      "outputs": [
        {
          "output_type": "stream",
          "name": "stdout",
          "text": [
            "지구은(는) 태앵계에서 3번째 위치하고 있습니다.\n",
            "지구은(는) 태앵계에서 9번째 위치하고 있습니다.\n"
          ]
        }
      ]
    }
  ],
  "metadata": {
    "colab": {
      "name": "Colab 시작하기",
      "toc_visible": true,
      "provenance": [],
      "include_colab_link": true
    },
    "kernelspec": {
      "display_name": "Python 3",
      "name": "python3"
    }
  },
  "nbformat": 4,
  "nbformat_minor": 0
}