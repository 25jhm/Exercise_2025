{
  "cells": [
    {
      "cell_type": "markdown",
      "metadata": {
        "id": "view-in-github",
        "colab_type": "text"
      },
      "source": [
        "<a href=\"https://colab.research.google.com/github/25jhm/Exercise_2025/blob/main/40Functional%20factor_41Global.ipynb\" target=\"_parent\"><img src=\"https://colab.research.google.com/assets/colab-badge.svg\" alt=\"Open In Colab\"/></a>"
      ]
    },
    {
      "cell_type": "code",
      "source": [
        "#Unite 40 예제\n",
        "def add_txt(t1,t2='파이썬'):\n",
        "  print(t1+':'+t2)\n",
        "\n",
        "add_txt('베스트')\n",
        "add_txt(t2='대한민국',t1='1등')\n",
        "\n",
        "def func1(*args):\n",
        "  print(args)\n",
        "\n",
        "def func2(width, hight,**kwords):\n",
        "  print(kwords)\n",
        "\n",
        "func1()\n",
        "func1(3,5,1,5)\n",
        "func2(10,20)\n",
        "func2(10,20,depth=50,color='blue')"
      ],
      "metadata": {
        "id": "VVgaG_C0zbdJ",
        "outputId": "e603f405-73d4-42f0-896b-8392b99ab456",
        "colab": {
          "base_uri": "https://localhost:8080/"
        }
      },
      "execution_count": 28,
      "outputs": [
        {
          "output_type": "stream",
          "name": "stdout",
          "text": [
            "베스트:파이썬\n",
            "1등:대한민국\n",
            "()\n",
            "(3, 5, 1, 5)\n",
            "{}\n",
            "{'depth': 50, 'color': 'blue'}\n"
          ]
        }
      ]
    },
    {
      "cell_type": "code",
      "source": [
        "#Unite 41 예제\n",
        "param=10\n",
        "strdata='지역변수'\n",
        "\n",
        "def func1():\n",
        "  strdata='전역변수'\n",
        "  print(strdata)\n",
        "\n",
        "def func2(param):\n",
        "  param=1\n",
        "\n",
        "def func3():\n",
        "  global param\n",
        "  param=50\n",
        "\n",
        "func1()\n",
        "print(strdata)\n",
        "print(param)\n",
        "func2(param)\n",
        "print(param)\n",
        "func3()\n",
        "print(param)\n"
      ],
      "metadata": {
        "id": "W-RZPYTq04h4",
        "outputId": "40c7fbdf-5a4c-420f-84ae-b91dd30e7698",
        "colab": {
          "base_uri": "https://localhost:8080/"
        }
      },
      "execution_count": 31,
      "outputs": [
        {
          "output_type": "stream",
          "name": "stdout",
          "text": [
            "전역변수\n",
            "지역변수\n",
            "10\n",
            "10\n",
            "50\n"
          ]
        }
      ]
    }
  ],
  "metadata": {
    "colab": {
      "name": "Colab 시작하기",
      "toc_visible": true,
      "provenance": [],
      "include_colab_link": true
    },
    "kernelspec": {
      "display_name": "Python 3",
      "name": "python3"
    }
  },
  "nbformat": 4,
  "nbformat_minor": 0
}