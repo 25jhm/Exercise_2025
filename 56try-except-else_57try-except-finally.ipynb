{
  "cells": [
    {
      "cell_type": "markdown",
      "metadata": {
        "id": "view-in-github",
        "colab_type": "text"
      },
      "source": [
        "<a href=\"https://colab.research.google.com/github/25jhm/Exercise_2025/blob/main/56try-except-else_57try-except-finally.ipynb\" target=\"_parent\"><img src=\"https://colab.research.google.com/assets/colab-badge.svg\" alt=\"Open In Colab\"/></a>"
      ]
    },
    {
      "cell_type": "code",
      "source": [
        "#Unite 56 예제\n",
        "try:\n",
        "  print('안녕하세요.')\n",
        "  print(param)\n",
        "except:\n",
        "  print('예외가 발생했습니다!')\n",
        "else:\n",
        "  print('예외가 발생하지 않았습니다.')"
      ],
      "metadata": {
        "id": "Cs3sV_IzWM6c",
        "outputId": "fa93010d-6861-44ad-f2ec-c8cc0ca14cd6",
        "colab": {
          "base_uri": "https://localhost:8080/"
        }
      },
      "execution_count": 29,
      "outputs": [
        {
          "output_type": "stream",
          "name": "stdout",
          "text": [
            "안녕하세요.\n",
            "예외가 발생했습니다!\n"
          ]
        }
      ]
    },
    {
      "cell_type": "code",
      "source": [
        "#Unite 57 예제\n",
        "try:\n",
        "  print('안녕하세요.')\n",
        "  print(param)\n",
        "except:\n",
        "  print('예외가 발생했습니다!')\n",
        "finally:\n",
        "  print('무조건 실행하는 코드')"
      ],
      "metadata": {
        "id": "LVGQD6BVWo-w",
        "outputId": "3cb5ab40-b0ad-4400-8257-5da6a97c8988",
        "colab": {
          "base_uri": "https://localhost:8080/"
        }
      },
      "execution_count": 30,
      "outputs": [
        {
          "output_type": "stream",
          "name": "stdout",
          "text": [
            "안녕하세요.\n",
            "예외가 발생했습니다!\n",
            "무조건 실행하는 코드\n"
          ]
        }
      ]
    }
  ],
  "metadata": {
    "colab": {
      "name": "Colab 시작하기",
      "toc_visible": true,
      "provenance": [],
      "include_colab_link": true
    },
    "kernelspec": {
      "display_name": "Python 3",
      "name": "python3"
    }
  },
  "nbformat": 4,
  "nbformat_minor": 0
}