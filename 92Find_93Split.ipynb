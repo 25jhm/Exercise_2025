{
  "cells": [
    {
      "cell_type": "markdown",
      "metadata": {
        "id": "view-in-github",
        "colab_type": "text"
      },
      "source": [
        "<a href=\"https://colab.research.google.com/github/25jhm/Exercise_2025/blob/main/92Find_93Split.ipynb\" target=\"_parent\"><img src=\"https://colab.research.google.com/assets/colab-badge.svg\" alt=\"Open In Colab\"/></a>"
      ]
    },
    {
      "cell_type": "code",
      "source": [
        "#Unite 92 예제\n",
        "txt='A lot of things occur each day, every day.'\n",
        "offset1=txt.find('e')\n",
        "offset2=txt.find('day')\n",
        "offset3=txt.find('day',30)\n",
        "print(offset1)\n",
        "print(offset2)\n",
        "print(offset3)"
      ],
      "metadata": {
        "id": "JyS6ojcQKJx2",
        "outputId": "728df113-8d55-4143-c7b3-306d059fd23c",
        "colab": {
          "base_uri": "https://localhost:8080/"
        }
      },
      "execution_count": 8,
      "outputs": [
        {
          "output_type": "stream",
          "name": "stdout",
          "text": [
            "22\n",
            "27\n",
            "38\n"
          ]
        }
      ]
    },
    {
      "cell_type": "code",
      "source": [
        "#Unite 93 예제\n",
        "url='http://www.naver.com/news/today=20160831'\n",
        "log='mame:홍길동 age:17 sex:남자 nation:조선'\n",
        "\n",
        "ret1=url.split('/')\n",
        "print(ret1)\n",
        "\n",
        "ret2=log.split()\n",
        "for data in ret2:\n",
        "  d1,d2=data.split(':')\n",
        "  print('%s->%s'%(d1,d2))\n"
      ],
      "metadata": {
        "id": "i5xNVh4YKnRp",
        "outputId": "37f5a486-8289-4e90-dfda-e1939b257a11",
        "colab": {
          "base_uri": "https://localhost:8080/"
        }
      },
      "execution_count": 10,
      "outputs": [
        {
          "output_type": "stream",
          "name": "stdout",
          "text": [
            "['http:', '', 'www.naver.com', 'news', 'today=20160831']\n",
            "mame->홍길동\n",
            "age->17\n",
            "sex->남자\n",
            "nation->조선\n"
          ]
        }
      ]
    }
  ],
  "metadata": {
    "colab": {
      "name": "Colab 시작하기",
      "toc_visible": true,
      "provenance": [],
      "include_colab_link": true
    },
    "kernelspec": {
      "display_name": "Python 3",
      "name": "python3"
    }
  },
  "nbformat": 4,
  "nbformat_minor": 0
}