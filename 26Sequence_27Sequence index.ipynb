{
  "cells": [
    {
      "cell_type": "markdown",
      "metadata": {
        "id": "view-in-github",
        "colab_type": "text"
      },
      "source": [
        "<a href=\"https://colab.research.google.com/github/25jhm/Exercise_2025/blob/main/26Sequence_27Sequence%20index.ipynb\" target=\"_parent\"><img src=\"https://colab.research.google.com/assets/colab-badge.svg\" alt=\"Open In Colab\"/></a>"
      ]
    },
    {
      "cell_type": "code",
      "source": [
        "#Unite 26 예제\n",
        "strdata='abcde'\n",
        "lisidata=[1,[2,3],'안녕']\n",
        "tupledata=(100,200,300)"
      ],
      "metadata": {
        "id": "GObVvvc4D5j9"
      },
      "execution_count": 19,
      "outputs": []
    },
    {
      "cell_type": "code",
      "source": [
        "#Unite 27 예제\n",
        "strdata='Time is money!!'\n",
        "listdata=[1,2,[1,2,3]]\n",
        "print(strdata[5])\n",
        "print(strdata[-2])\n",
        "print(listdata[0])\n",
        "print(listdata[-1])\n",
        "print(listdata[2][-1])\n"
      ],
      "metadata": {
        "id": "QIAcF-ecEkN3",
        "outputId": "b826a7f6-73ee-40c4-eeb9-8b70866b77e2",
        "colab": {
          "base_uri": "https://localhost:8080/"
        }
      },
      "execution_count": 23,
      "outputs": [
        {
          "output_type": "stream",
          "name": "stdout",
          "text": [
            "i\n",
            "!\n",
            "1\n",
            "[1, 2, 3]\n",
            "3\n"
          ]
        }
      ]
    }
  ],
  "metadata": {
    "colab": {
      "name": "Colab 시작하기",
      "toc_visible": true,
      "provenance": [],
      "include_colab_link": true
    },
    "kernelspec": {
      "display_name": "Python 3",
      "name": "python3"
    }
  },
  "nbformat": 4,
  "nbformat_minor": 0
}