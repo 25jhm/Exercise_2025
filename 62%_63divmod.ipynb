{
  "cells": [
    {
      "cell_type": "markdown",
      "metadata": {
        "id": "view-in-github",
        "colab_type": "text"
      },
      "source": [
        "<a href=\"https://colab.research.google.com/github/25jhm/Exercise_2025/blob/main/62%25_63divmod.ipynb\" target=\"_parent\"><img src=\"https://colab.research.google.com/assets/colab-badge.svg\" alt=\"Open In Colab\"/></a>"
      ]
    },
    {
      "cell_type": "code",
      "source": [
        "#Unite 62 예제\n",
        "a=11113\n",
        "b=23\n",
        "ret=a%b\n",
        "print('<%d>를 <%d>로 나누면 <%d>가 나머지로 남습니다'%(a,b,ret))"
      ],
      "metadata": {
        "id": "1IqI7yMW6u5G",
        "outputId": "331bb5a7-54f9-4f78-eb40-46dc54c3f20d",
        "colab": {
          "base_uri": "https://localhost:8080/"
        }
      },
      "execution_count": 8,
      "outputs": [
        {
          "output_type": "stream",
          "name": "stdout",
          "text": [
            "<11113>를 <23>로 나누면 <4>가 나머지로 남습니다\n"
          ]
        }
      ]
    },
    {
      "cell_type": "code",
      "source": [
        "#Unite 63 예제\n",
        "a=11113\n",
        "b=23\n",
        "ret1,ret2=divmod(a,b)\n",
        "print('<%d/%d>는 몫이 <%d>, 나머지가 <%d>입니다.'%(a,b,ret1,ret2))"
      ],
      "metadata": {
        "id": "TTbFYlt77bQK",
        "outputId": "9fe8e3fe-bdf4-416d-fb49-c07ce34842b5",
        "colab": {
          "base_uri": "https://localhost:8080/"
        }
      },
      "execution_count": 9,
      "outputs": [
        {
          "output_type": "stream",
          "name": "stdout",
          "text": [
            "<11113/23>는 몫이 <483>, 나머지가 <4>입니다.\n"
          ]
        }
      ]
    }
  ],
  "metadata": {
    "colab": {
      "name": "Colab 시작하기",
      "toc_visible": true,
      "provenance": [],
      "include_colab_link": true
    },
    "kernelspec": {
      "display_name": "Python 3",
      "name": "python3"
    }
  },
  "nbformat": 4,
  "nbformat_minor": 0
}