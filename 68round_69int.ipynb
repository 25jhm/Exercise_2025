{
  "cells": [
    {
      "cell_type": "markdown",
      "metadata": {
        "id": "view-in-github",
        "colab_type": "text"
      },
      "source": [
        "<a href=\"https://colab.research.google.com/github/25jhm/Exercise_2025/blob/main/68round_69int.ipynb\" target=\"_parent\"><img src=\"https://colab.research.google.com/assets/colab-badge.svg\" alt=\"Open In Colab\"/></a>"
      ]
    },
    {
      "cell_type": "code",
      "source": [
        "#Unite 68 예제\n",
        "ret1=round(1118)\n",
        "ret2=round(16.554)\n",
        "ret3=round(1118,-1)\n",
        "ret4=round(16.554,2)\n",
        "print(ret1)\n",
        "print(ret2)\n",
        "print(ret3)\n",
        "print(ret4)"
      ],
      "metadata": {
        "id": "iB6juN3xABs1",
        "outputId": "742f3f65-53c2-4655-d9e8-f131a5c0f9ad",
        "colab": {
          "base_uri": "https://localhost:8080/"
        }
      },
      "execution_count": 14,
      "outputs": [
        {
          "output_type": "stream",
          "name": "stdout",
          "text": [
            "1118\n",
            "17\n",
            "1120\n",
            "16.55\n"
          ]
        }
      ]
    },
    {
      "cell_type": "code",
      "source": [
        "#Unite 69 예제\n",
        "idata1=int(-5.4)\n",
        "idata2=int(1.78e1)\n",
        "idata3=int(171.56)\n",
        "print(idata1)\n",
        "print(idata2)\n",
        "print(idata3)"
      ],
      "metadata": {
        "id": "cHEye07cAhwr",
        "outputId": "85aa6648-057c-4ab1-e1a9-45c4a1f171ff",
        "colab": {
          "base_uri": "https://localhost:8080/"
        }
      },
      "execution_count": 16,
      "outputs": [
        {
          "output_type": "stream",
          "name": "stdout",
          "text": [
            "-5\n",
            "17\n",
            "171\n"
          ]
        }
      ]
    }
  ],
  "metadata": {
    "colab": {
      "name": "Colab 시작하기",
      "toc_visible": true,
      "provenance": [],
      "include_colab_link": true
    },
    "kernelspec": {
      "display_name": "Python 3",
      "name": "python3"
    }
  },
  "nbformat": 4,
  "nbformat_minor": 0
}