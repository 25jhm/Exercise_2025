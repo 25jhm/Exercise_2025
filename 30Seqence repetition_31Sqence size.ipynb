{
  "cells": [
    {
      "cell_type": "markdown",
      "metadata": {
        "id": "view-in-github",
        "colab_type": "text"
      },
      "source": [
        "<a href=\"https://colab.research.google.com/github/25jhm/Exercise_2025/blob/main/30Seqence%20repetition_31Sqence%20size.ipynb\" target=\"_parent\"><img src=\"https://colab.research.google.com/assets/colab-badge.svg\" alt=\"Open In Colab\"/></a>"
      ]
    },
    {
      "cell_type": "code",
      "source": [
        "#Unite 30 예제\n",
        "artist='BTS!'\n",
        "fan='ARMY'\n",
        "dispdata=fan+'들이 외칩니다.'+artist*3\n",
        "print(dispdata)"
      ],
      "metadata": {
        "id": "ZNGXseJfI5hY",
        "outputId": "9eec4b42-9afe-4c8f-ea2c-3c7eb7e41d5d",
        "colab": {
          "base_uri": "https://localhost:8080/"
        }
      },
      "execution_count": 28,
      "outputs": [
        {
          "output_type": "stream",
          "name": "stdout",
          "text": [
            "ARMY들이 외칩니다.BTS!BTS!BTS!\n"
          ]
        }
      ]
    },
    {
      "cell_type": "code",
      "source": [
        "#Unite 31 예제\n",
        "strdata1='I love python'\n",
        "strdata2='나는 파이썬을 사랑합니다'\n",
        "listdata=['a','b','c',strdata1,strdata2]\n",
        "print(len(strdata1))\n",
        "print(len(strdata2))\n",
        "print(len(listdata))\n",
        "print(len(listdata[3]))"
      ],
      "metadata": {
        "id": "VCEvT4ruJdms",
        "outputId": "f2fee7fa-befa-4ae4-e566-49111830cb93",
        "colab": {
          "base_uri": "https://localhost:8080/"
        }
      },
      "execution_count": 32,
      "outputs": [
        {
          "output_type": "stream",
          "name": "stdout",
          "text": [
            "13\n",
            "13\n",
            "5\n",
            "13\n"
          ]
        }
      ]
    }
  ],
  "metadata": {
    "colab": {
      "name": "Colab 시작하기",
      "toc_visible": true,
      "provenance": [],
      "include_colab_link": true
    },
    "kernelspec": {
      "display_name": "Python 3",
      "name": "python3"
    }
  },
  "nbformat": 4,
  "nbformat_minor": 0
}