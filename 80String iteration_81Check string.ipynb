{
  "cells": [
    {
      "cell_type": "markdown",
      "metadata": {
        "id": "view-in-github",
        "colab_type": "text"
      },
      "source": [
        "<a href=\"https://colab.research.google.com/github/25jhm/Exercise_2025/blob/main/80String%20iteration_81Check%20string.ipynb\" target=\"_parent\"><img src=\"https://colab.research.google.com/assets/colab-badge.svg\" alt=\"Open In Colab\"/></a>"
      ]
    },
    {
      "cell_type": "code",
      "source": [
        "#Unite 80 예제\n",
        "msg1='여러분'\n",
        "msg2='파이팅!'\n",
        "display_msg=msg1+','+msg2*3+'~!'\n",
        "print(display_msg)"
      ],
      "metadata": {
        "id": "EWaVDtqE94KJ",
        "outputId": "59ed911d-1e71-4f97-a6e7-01cc602b6c60",
        "colab": {
          "base_uri": "https://localhost:8080/"
        }
      },
      "execution_count": 9,
      "outputs": [
        {
          "output_type": "stream",
          "name": "stdout",
          "text": [
            "여러분,파이팅!파이팅!파이팅!~!\n"
          ]
        }
      ]
    },
    {
      "cell_type": "code",
      "source": [
        "#Unite 81 예제\n",
        "msg=input('임의의 문장을 입력하세요:')\n",
        "if 'a' in msg:\n",
        "  print('당신이 입력한 문장에는 a가 있습니다.')\n",
        "else:\n",
        "  print('당신이 입력한 문장에는 a가 없습니다')"
      ],
      "metadata": {
        "id": "E0LkuwX1-ajY",
        "outputId": "893d8d33-4c8f-46dd-adab-a82e7bb75b2a",
        "colab": {
          "base_uri": "https://localhost:8080/"
        }
      },
      "execution_count": 10,
      "outputs": [
        {
          "output_type": "stream",
          "name": "stdout",
          "text": [
            "임의의 문장을 입력하세요:a\n",
            "당신이 입력한 문장에는 a가 있습니다.\n"
          ]
        }
      ]
    }
  ],
  "metadata": {
    "colab": {
      "name": "Colab 시작하기",
      "toc_visible": true,
      "provenance": [],
      "include_colab_link": true
    },
    "kernelspec": {
      "display_name": "Python 3",
      "name": "python3"
    }
  },
  "nbformat": 4,
  "nbformat_minor": 0
}