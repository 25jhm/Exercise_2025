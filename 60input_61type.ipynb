{
  "cells": [
    {
      "cell_type": "markdown",
      "metadata": {
        "id": "view-in-github",
        "colab_type": "text"
      },
      "source": [
        "<a href=\"https://colab.research.google.com/github/25jhm/Exercise_2025/blob/main/60input_61type.ipynb\" target=\"_parent\"><img src=\"https://colab.research.google.com/assets/colab-badge.svg\" alt=\"Open In Colab\"/></a>"
      ]
    },
    {
      "cell_type": "code",
      "source": [
        "#Unite 60 예제\n",
        "k=input('<값>을 입력하시오:')\n",
        "print('당신이 입력하신 값은 <'+ k +'>입니다')"
      ],
      "metadata": {
        "id": "zaYBJ0lW2iVZ",
        "outputId": "92027c08-59fb-4e0a-c4ff-e79042ceef27",
        "colab": {
          "base_uri": "https://localhost:8080/"
        }
      },
      "execution_count": 6,
      "outputs": [
        {
          "output_type": "stream",
          "name": "stdout",
          "text": [
            "<값>을 입력하시오:안녕하세요 파이썬\n",
            "당신이 입력하신 값은 <안녕하세요 파이썬>입니다\n"
          ]
        }
      ]
    },
    {
      "cell_type": "code",
      "source": [
        "#Unite 61 예제\n",
        "numdata=57\n",
        "strdata='파이썬'\n",
        "listdata=[1,2,3]\n",
        "dictdata={'a':1,'b':2}\n",
        "\n",
        "def func():\n",
        "  print('안녕하세요')\n",
        "\n",
        "print(type(numdata))\n",
        "print(type(strdata))\n",
        "print(type(listdata))\n",
        "print(type(dictdata))\n",
        "print(type(func))"
      ],
      "metadata": {
        "id": "uG7wcVRJ4IYb",
        "outputId": "5e6ea31f-c7d0-44a4-dafa-8afe4464bd5a",
        "colab": {
          "base_uri": "https://localhost:8080/"
        }
      },
      "execution_count": 7,
      "outputs": [
        {
          "output_type": "stream",
          "name": "stdout",
          "text": [
            "<class 'int'>\n",
            "<class 'str'>\n",
            "<class 'list'>\n",
            "<class 'dict'>\n",
            "<class 'function'>\n"
          ]
        }
      ]
    }
  ],
  "metadata": {
    "colab": {
      "name": "Colab 시작하기",
      "toc_visible": true,
      "provenance": [],
      "include_colab_link": true
    },
    "kernelspec": {
      "display_name": "Python 3",
      "name": "python3"
    }
  },
  "nbformat": 4,
  "nbformat_minor": 0
}