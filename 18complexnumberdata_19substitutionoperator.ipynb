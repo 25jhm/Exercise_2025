{
  "cells": [
    {
      "cell_type": "markdown",
      "metadata": {
        "id": "view-in-github",
        "colab_type": "text"
      },
      "source": [
        "<a href=\"https://colab.research.google.com/github/25jhm/Exercise_2025/blob/main/18complexnumberdata_19substitutionoperator.ipynb\" target=\"_parent\"><img src=\"https://colab.research.google.com/assets/colab-badge.svg\" alt=\"Open In Colab\"/></a>"
      ]
    },
    {
      "cell_type": "code",
      "source": [
        "#Unite 18 예제\n",
        "c1=1+7j\n",
        "print(c1.real);print(c1.imag)\n",
        "c2=complex(2,3)\n",
        "print(c2)"
      ],
      "metadata": {
        "id": "7BTJIrvA3Pdb",
        "outputId": "68e1ba09-00e4-480a-f590-70598c73bf0b",
        "colab": {
          "base_uri": "https://localhost:8080/"
        }
      },
      "execution_count": 3,
      "outputs": [
        {
          "output_type": "stream",
          "name": "stdout",
          "text": [
            "1.0\n",
            "7.0\n",
            "(2+3j)\n"
          ]
        }
      ]
    },
    {
      "cell_type": "code",
      "source": [
        "#unite 19 예제\n",
        "a=1\n",
        "b=2\n",
        "ret=a+b\n",
        "print('a와 b를 더한 값은',end='')\n",
        "print(ret,end='')\n",
        "print('입니다.')"
      ],
      "metadata": {
        "id": "w7a8-aYw3u1r",
        "outputId": "8872346d-900a-4178-ade5-a937be2a2d3a",
        "colab": {
          "base_uri": "https://localhost:8080/"
        }
      },
      "execution_count": 6,
      "outputs": [
        {
          "output_type": "stream",
          "name": "stdout",
          "text": [
            "a와 b를 더한 값은3입니다.\n"
          ]
        }
      ]
    }
  ],
  "metadata": {
    "colab": {
      "name": "Colab 시작하기",
      "toc_visible": true,
      "provenance": [],
      "include_colab_link": true
    },
    "kernelspec": {
      "display_name": "Python 3",
      "name": "python3"
    }
  },
  "nbformat": 4,
  "nbformat_minor": 0
}