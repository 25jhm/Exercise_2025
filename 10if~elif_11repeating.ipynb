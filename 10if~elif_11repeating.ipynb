{
  "cells": [
    {
      "cell_type": "markdown",
      "metadata": {
        "id": "view-in-github",
        "colab_type": "text"
      },
      "source": [
        "<a href=\"https://colab.research.google.com/github/25jhm/Exercise_2025/blob/main/10if~elif_11repeating.ipynb\" target=\"_parent\"><img src=\"https://colab.research.google.com/assets/colab-badge.svg\" alt=\"Open In Colab\"/></a>"
      ]
    },
    {
      "cell_type": "code",
      "source": [
        "# Unite 10 예제\n",
        "x=1\n",
        "y=2\n",
        "if x>y:\n",
        "  print('x가 y보다 큽니다.')\n",
        "elif x<y:\n",
        "  print('x가 y보다 작습니다.')\n",
        "else:\n",
        "  print('x와 y가 같습니다.')"
      ],
      "metadata": {
        "id": "E-E4rY1bgf6k",
        "outputId": "6f623973-29ba-44fe-b51c-caa8fd77c26f",
        "colab": {
          "base_uri": "https://localhost:8080/"
        }
      },
      "execution_count": 19,
      "outputs": [
        {
          "output_type": "stream",
          "name": "stdout",
          "text": [
            "x가 y보다 작습니다.\n"
          ]
        }
      ]
    },
    {
      "cell_type": "code",
      "source": [
        "# Unite 11 예제\n",
        "scope=[1,2,3,4,5]\n",
        "for x in scope:\n",
        "  print(x)"
      ],
      "metadata": {
        "id": "9TRpmgsXhQto",
        "outputId": "4f274257-17b5-4be4-e9ce-e52d8fd34f0f",
        "colab": {
          "base_uri": "https://localhost:8080/"
        }
      },
      "execution_count": 20,
      "outputs": [
        {
          "output_type": "stream",
          "name": "stdout",
          "text": [
            "1\n",
            "2\n",
            "3\n",
            "4\n",
            "5\n"
          ]
        }
      ]
    }
  ],
  "metadata": {
    "colab": {
      "name": "Colab 시작하기",
      "toc_visible": true,
      "provenance": [],
      "include_colab_link": true
    },
    "kernelspec": {
      "display_name": "Python 3",
      "name": "python3"
    }
  },
  "nbformat": 4,
  "nbformat_minor": 0
}