{
  "cells": [
    {
      "cell_type": "markdown",
      "metadata": {
        "id": "view-in-github",
        "colab_type": "text"
      },
      "source": [
        "<a href=\"https://colab.research.google.com/github/25jhm/Exercise_2025/blob/main/82Check%20string_83String%20length.ipynb\" target=\"_parent\"><img src=\"https://colab.research.google.com/assets/colab-badge.svg\" alt=\"Open In Colab\"/></a>"
      ]
    },
    {
      "cell_type": "code",
      "source": [
        "#Unite 82 예제\n",
        "msg=input('임의의 문장을 입력하세요:')\n",
        "if 'is' in msg:\n",
        "  print('당신이 입력한 문장에는 is가 있습니다.')\n",
        "else:\n",
        "  print('당신이 입력항 문자는 is가 없습니다')"
      ],
      "metadata": {
        "id": "HgqOAdzr_jUr",
        "outputId": "1b188ef5-5c8b-47ab-bb53-2b327faa71c7",
        "colab": {
          "base_uri": "https://localhost:8080/"
        }
      },
      "execution_count": 11,
      "outputs": [
        {
          "output_type": "stream",
          "name": "stdout",
          "text": [
            "임의의 문장을 입력하세요:is\n",
            "당신이 입력한 문장에는 is가 있습니다.\n"
          ]
        }
      ]
    },
    {
      "cell_type": "code",
      "source": [
        "#Unite 83 예제\n",
        "msg=input('임의의 문장을 입력하세요:')\n",
        "msglen=len(msg)\n",
        "print('당신이 입력한 문장의 길이는 <%d>입니다.'%msglen)"
      ],
      "metadata": {
        "id": "vTanjQM6AJvG",
        "outputId": "8c5c1319-a13e-46b0-bcb3-a0e75141413c",
        "colab": {
          "base_uri": "https://localhost:8080/"
        }
      },
      "execution_count": 12,
      "outputs": [
        {
          "output_type": "stream",
          "name": "stdout",
          "text": [
            "임의의 문장을 입력하세요:안녕하세요\n",
            "당신이 입력한 문장의 길이는 <5>입니다.\n"
          ]
        }
      ]
    }
  ],
  "metadata": {
    "colab": {
      "name": "Colab 시작하기",
      "toc_visible": true,
      "provenance": [],
      "include_colab_link": true
    },
    "kernelspec": {
      "display_name": "Python 3",
      "name": "python3"
    }
  },
  "nbformat": 4,
  "nbformat_minor": 0
}