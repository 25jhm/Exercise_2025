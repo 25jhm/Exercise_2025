{
  "cells": [
    {
      "cell_type": "markdown",
      "metadata": {
        "id": "view-in-github",
        "colab_type": "text"
      },
      "source": [
        "<a href=\"https://colab.research.google.com/github/25jhm/Exercise_2025/blob/main/78Inverted%20string_79Combining%20string.ipynb\" target=\"_parent\"><img src=\"https://colab.research.google.com/assets/colab-badge.svg\" alt=\"Open In Colab\"/></a>"
      ]
    },
    {
      "cell_type": "code",
      "source": [
        "#Unite 78 예제\n",
        "txt='abcdefghijk'\n",
        "ret=txt[::-1]\n",
        "print(ret)"
      ],
      "metadata": {
        "id": "FU2Vv7Tg8c8c",
        "outputId": "ddec59fb-76ad-4219-e4bf-df690b454532",
        "colab": {
          "base_uri": "https://localhost:8080/"
        }
      },
      "execution_count": 6,
      "outputs": [
        {
          "output_type": "stream",
          "name": "stdout",
          "text": [
            "kjihgfedcba\n"
          ]
        }
      ]
    },
    {
      "cell_type": "code",
      "source": [
        "#Unite 79 예제\n",
        "filename=input('저장할 파일이름을 입력하세요:')\n",
        "filename=filename+'.jpg'\n",
        "display_msg='당신이 저장한 파일은<'+filename+'>입니다'\n",
        "print(display_msg)"
      ],
      "metadata": {
        "id": "tP3UFeoQ8qzq",
        "outputId": "fe610a61-75f3-4ea2-9cf4-05cace675dc0",
        "colab": {
          "base_uri": "https://localhost:8080/"
        }
      },
      "execution_count": 7,
      "outputs": [
        {
          "output_type": "stream",
          "name": "stdout",
          "text": [
            "저장할 파일이름을 입력하세요:mypics\n",
            "당신이 저장한 파일은<mypics.jpg>입니다\n"
          ]
        }
      ]
    }
  ],
  "metadata": {
    "colab": {
      "name": "Colab 시작하기",
      "toc_visible": true,
      "provenance": [],
      "include_colab_link": true
    },
    "kernelspec": {
      "display_name": "Python 3",
      "name": "python3"
    }
  },
  "nbformat": 4,
  "nbformat_minor": 0
}