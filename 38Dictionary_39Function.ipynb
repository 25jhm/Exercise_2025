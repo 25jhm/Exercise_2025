{
  "cells": [
    {
      "cell_type": "markdown",
      "metadata": {
        "id": "view-in-github",
        "colab_type": "text"
      },
      "source": [
        "<a href=\"https://colab.research.google.com/github/25jhm/Exercise_2025/blob/main/38Dictionary_39Function.ipynb\" target=\"_parent\"><img src=\"https://colab.research.google.com/assets/colab-badge.svg\" alt=\"Open In Colab\"/></a>"
      ]
    },
    {
      "cell_type": "code",
      "source": [
        "#Unite 38 예제\n",
        "dict1={'a':1,'b':2,'c':3}\n",
        "print(dict1['a'])\n",
        "dict1['d']=4\n",
        "print(dict1)\n",
        "dict1['b']=7\n",
        "print(dict1)\n",
        "print(len(dict1))"
      ],
      "metadata": {
        "id": "TBLhVzfNwgxe",
        "outputId": "d5de2fd0-ebbf-4e78-bca9-951e17ca0084",
        "colab": {
          "base_uri": "https://localhost:8080/"
        }
      },
      "execution_count": 26,
      "outputs": [
        {
          "output_type": "stream",
          "name": "stdout",
          "text": [
            "1\n",
            "{'a': 1, 'b': 2, 'c': 3, 'd': 4}\n",
            "{'a': 1, 'b': 7, 'c': 3, 'd': 4}\n",
            "4\n"
          ]
        }
      ]
    },
    {
      "cell_type": "code",
      "source": [
        "#Unite 39 예제\n",
        "def add_number(n1,n2):\n",
        "  ret=n1+n2\n",
        "  return ret\n",
        "\n",
        "def add_txt(t1,t2):\n",
        "  print(t1+t2)\n",
        "\n",
        "ans=add_number(10,15)\n",
        "print(ans)\n",
        "txt1='대한민국~'\n",
        "txt2='만세!'\n",
        "add_txt(txt1,txt2)\n",
        "\n"
      ],
      "metadata": {
        "id": "6dOp1KL-yQhS",
        "outputId": "15bbbd66-5788-4ecb-81d6-e947736cb936",
        "colab": {
          "base_uri": "https://localhost:8080/"
        }
      },
      "execution_count": 27,
      "outputs": [
        {
          "output_type": "stream",
          "name": "stdout",
          "text": [
            "25\n",
            "대한민국~만세!\n"
          ]
        }
      ]
    }
  ],
  "metadata": {
    "colab": {
      "name": "Colab 시작하기",
      "toc_visible": true,
      "provenance": [],
      "include_colab_link": true
    },
    "kernelspec": {
      "display_name": "Python 3",
      "name": "python3"
    }
  },
  "nbformat": 4,
  "nbformat_minor": 0
}