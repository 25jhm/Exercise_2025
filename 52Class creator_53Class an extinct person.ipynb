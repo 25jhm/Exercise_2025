{
  "cells": [
    {
      "cell_type": "markdown",
      "metadata": {
        "id": "view-in-github",
        "colab_type": "text"
      },
      "source": [
        "<a href=\"https://colab.research.google.com/github/25jhm/Exercise_2025/blob/main/52Class%20creator_53Class%20an%20extinct%20person.ipynb\" target=\"_parent\"><img src=\"https://colab.research.google.com/assets/colab-badge.svg\" alt=\"Open In Colab\"/></a>"
      ]
    },
    {
      "cell_type": "code",
      "source": [
        "#Unite 50 예제\n",
        "class MyClass:\n",
        "  def __init__(self):\n",
        "    self.var='안녕하세요'\n",
        "    print('MyClass인스턴스 객체가 생성 되었습니다')\n",
        "\n",
        "obj=MyClass()\n",
        "print(obj.var)"
      ],
      "metadata": {
        "id": "L3wQp6IpRfgB",
        "outputId": "c18bc544-c108-4026-dda8-fdf3fef2e6d2",
        "colab": {
          "base_uri": "https://localhost:8080/"
        }
      },
      "execution_count": 15,
      "outputs": [
        {
          "output_type": "stream",
          "name": "stdout",
          "text": [
            "MyClass인스턴스 객체가 생성 되었습니다\n",
            "안녕하세요\n"
          ]
        }
      ]
    },
    {
      "cell_type": "code",
      "source": [
        "#Unite 50 예제\n",
        "class MyClass:\n",
        "  def __del__(self):\n",
        "    print('MyClass인스턴스 객체가 메모리에서 제거됩니다')\n",
        "\n",
        "obj=MyClass()\n",
        "del obj\n"
      ],
      "metadata": {
        "id": "rKg7tinGSgcz",
        "outputId": "7a8fc704-50da-481e-ecfb-5f4152d4e79a",
        "colab": {
          "base_uri": "https://localhost:8080/"
        }
      },
      "execution_count": 16,
      "outputs": [
        {
          "output_type": "stream",
          "name": "stdout",
          "text": [
            "MyClass인스턴스 객체가 메모리에서 제거됩니다\n"
          ]
        }
      ]
    }
  ],
  "metadata": {
    "colab": {
      "name": "Colab 시작하기",
      "toc_visible": true,
      "provenance": [],
      "include_colab_link": true
    },
    "kernelspec": {
      "display_name": "Python 3",
      "name": "python3"
    }
  },
  "nbformat": 4,
  "nbformat_minor": 0
}