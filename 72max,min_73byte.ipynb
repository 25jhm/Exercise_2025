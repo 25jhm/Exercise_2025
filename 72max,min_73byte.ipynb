{
  "cells": [
    {
      "cell_type": "markdown",
      "metadata": {
        "id": "view-in-github",
        "colab_type": "text"
      },
      "source": [
        "<a href=\"https://colab.research.google.com/github/25jhm/Exercise_2025/blob/main/72max%2Cmin_73byte.ipynb\" target=\"_parent\"><img src=\"https://colab.research.google.com/assets/colab-badge.svg\" alt=\"Open In Colab\"/></a>"
      ]
    },
    {
      "cell_type": "code",
      "source": [
        "#Unite 72 예제\n",
        "listdata=[9.96,1.27,5.07,6.45,8.38,9.29,4.93,7.73,3.71,0.93]\n",
        "maxva1=max(listdata)\n",
        "minva1=min(listdata)\n",
        "print(maxva1)\n",
        "print(minva1)\n",
        "\n",
        "txt='Alotofthingsoccureachday'\n",
        "maxva1=max(txt)\n",
        "minva1=min(txt)\n",
        "print(maxva1)\n",
        "print(minva1)\n",
        "\n",
        "maxva1=max(2+3,2*3,2**3,3**2)\n",
        "minva1=min('abz','a12')\n",
        "print(maxva1)\n",
        "print(minva1)"
      ],
      "metadata": {
        "id": "8anwkMBSEN9z",
        "outputId": "9eb3e401-4f17-4db9-ba42-82b5f859db90",
        "colab": {
          "base_uri": "https://localhost:8080/"
        }
      },
      "execution_count": 23,
      "outputs": [
        {
          "output_type": "stream",
          "name": "stdout",
          "text": [
            "9.96\n",
            "0.93\n",
            "y\n",
            "A\n",
            "9\n",
            "a12\n"
          ]
        }
      ]
    },
    {
      "cell_type": "code",
      "source": [
        "#Unite 73 예제\n",
        "a=107\n",
        "b=a&0x0f\n",
        "print(b)"
      ],
      "metadata": {
        "id": "CNNR8fRhGBEG",
        "outputId": "cc14407e-2373-4bcd-a2ce-5887910edb6a",
        "colab": {
          "base_uri": "https://localhost:8080/"
        }
      },
      "execution_count": 24,
      "outputs": [
        {
          "output_type": "stream",
          "name": "stdout",
          "text": [
            "11\n"
          ]
        }
      ]
    }
  ],
  "metadata": {
    "colab": {
      "name": "Colab 시작하기",
      "toc_visible": true,
      "provenance": [],
      "include_colab_link": true
    },
    "kernelspec": {
      "display_name": "Python 3",
      "name": "python3"
    }
  },
  "nbformat": 4,
  "nbformat_minor": 0
}