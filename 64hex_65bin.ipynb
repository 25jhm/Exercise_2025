{
  "cells": [
    {
      "cell_type": "markdown",
      "metadata": {
        "id": "view-in-github",
        "colab_type": "text"
      },
      "source": [
        "<a href=\"https://colab.research.google.com/github/25jhm/Exercise_2025/blob/main/64hex_65bin.ipynb\" target=\"_parent\"><img src=\"https://colab.research.google.com/assets/colab-badge.svg\" alt=\"Open In Colab\"/></a>"
      ]
    },
    {
      "cell_type": "code",
      "source": [
        "#Unite 64 예제\n",
        "h1=hex(97)\n",
        "h2=hex(98)\n",
        "ret1=h1+h2\n",
        "print(ret1)\n",
        "a=int(h1,16)\n",
        "b=int(h2,16)\n",
        "ret2=a+b\n",
        "print(hex(ret2))"
      ],
      "metadata": {
        "id": "PTeP5VCa8iP7",
        "outputId": "21f1857d-0fe9-45a5-854c-9c62993867c2",
        "colab": {
          "base_uri": "https://localhost:8080/"
        }
      },
      "execution_count": 10,
      "outputs": [
        {
          "output_type": "stream",
          "name": "stdout",
          "text": [
            "0x610x62\n",
            "0xc3\n"
          ]
        }
      ]
    },
    {
      "cell_type": "code",
      "source": [
        "#Unite 65 예제\n",
        "b1=bin(97)\n",
        "b2=bin(98)\n",
        "ret1=b1+b2\n",
        "print(ret1)\n",
        "a=int(b1,2)\n",
        "b=int(b2,2)\n",
        "ret2=a+b\n",
        "print(bin(ret2))"
      ],
      "metadata": {
        "id": "CbbTuKZF9IKI",
        "outputId": "c95dbac2-93e9-4bb4-f854-672440bba4c1",
        "colab": {
          "base_uri": "https://localhost:8080/"
        }
      },
      "execution_count": 11,
      "outputs": [
        {
          "output_type": "stream",
          "name": "stdout",
          "text": [
            "0b11000010b1100010\n",
            "0b11000011\n"
          ]
        }
      ]
    }
  ],
  "metadata": {
    "colab": {
      "name": "Colab 시작하기",
      "toc_visible": true,
      "provenance": [],
      "include_colab_link": true
    },
    "kernelspec": {
      "display_name": "Python 3",
      "name": "python3"
    }
  },
  "nbformat": 4,
  "nbformat_minor": 0
}