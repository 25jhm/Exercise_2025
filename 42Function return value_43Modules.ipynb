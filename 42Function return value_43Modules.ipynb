{
  "cells": [
    {
      "cell_type": "markdown",
      "metadata": {
        "id": "view-in-github",
        "colab_type": "text"
      },
      "source": [
        "<a href=\"https://colab.research.google.com/github/25jhm/Exercise_2025/blob/main/42Function%20return%20value_43Modules.ipynb\" target=\"_parent\"><img src=\"https://colab.research.google.com/assets/colab-badge.svg\" alt=\"Open In Colab\"/></a>"
      ]
    },
    {
      "cell_type": "code",
      "source": [
        "#Unite 42 예제\n",
        "def reverse(x,y,z):\n",
        "  return z,y,x\n",
        "\n",
        "ret=reverse(1,2,3)\n",
        "print(ret)\n",
        "\n",
        "r1,r2,r3=reverse('a','b','c')\n",
        "print(r1);print(r2);print(r3)\n"
      ],
      "metadata": {
        "id": "D-rqR71f2dRO",
        "outputId": "e4e2d215-8215-4ebb-fd47-0ae94f32107c",
        "colab": {
          "base_uri": "https://localhost:8080/"
        }
      },
      "execution_count": 32,
      "outputs": [
        {
          "output_type": "stream",
          "name": "stdout",
          "text": [
            "(3, 2, 1)\n",
            "c\n",
            "b\n",
            "a\n"
          ]
        }
      ]
    },
    {
      "cell_type": "code",
      "source": [
        "#Unite 43 예제\n",
        "import time\n",
        "\n",
        "print('5초간 프로그램을 정지합니다.')\n",
        "time.sleep(5)\n",
        "print('5초가 지났습니다.')"
      ],
      "metadata": {
        "id": "-XZU0oG93Is1",
        "outputId": "ac723553-e2c0-4691-f040-214d077d2de5",
        "colab": {
          "base_uri": "https://localhost:8080/"
        }
      },
      "execution_count": 34,
      "outputs": [
        {
          "output_type": "stream",
          "name": "stdout",
          "text": [
            "5초간 프로그램을 정지합니다.\n",
            "5초가 지났습니다.\n"
          ]
        }
      ]
    },
    {
      "cell_type": "code",
      "source": [
        "def add_txt(t1,t2):\n",
        "  return t1+':'+t2\n",
        "\n",
        "def reverse(x,y,z):\n",
        "  return z,y,x"
      ],
      "metadata": {
        "id": "eJI6KMyT3tHr"
      },
      "execution_count": 35,
      "outputs": []
    }
  ],
  "metadata": {
    "colab": {
      "name": "Colab 시작하기",
      "toc_visible": true,
      "provenance": [],
      "include_colab_link": true
    },
    "kernelspec": {
      "display_name": "Python 3",
      "name": "python3"
    }
  },
  "nbformat": 4,
  "nbformat_minor": 0
}