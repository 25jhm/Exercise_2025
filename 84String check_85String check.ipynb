{
  "cells": [
    {
      "cell_type": "markdown",
      "metadata": {
        "id": "view-in-github",
        "colab_type": "text"
      },
      "source": [
        "<a href=\"https://colab.research.google.com/github/25jhm/Exercise_2025/blob/main/84String%20check_85String%20check.ipynb\" target=\"_parent\"><img src=\"https://colab.research.google.com/assets/colab-badge.svg\" alt=\"Open In Colab\"/></a>"
      ]
    },
    {
      "cell_type": "code",
      "source": [
        "#Unite 84 예제\n",
        "txt1='A'\n",
        "txt2='안녕'\n",
        "txt3='Warcraft Three'\n",
        "txt4='3PO'\n",
        "ret1=txt1.isalpha()\n",
        "ret2=txt2.isalpha()\n",
        "ret3=txt3.isalpha()\n",
        "ret4=txt4.isalpha()\n",
        "print(ret1)\n",
        "print(ret2)\n",
        "print(ret3)\n",
        "print(ret4)"
      ],
      "metadata": {
        "id": "X_ajhJUuBFhs",
        "outputId": "7eaaa846-a294-4e81-9a8a-1fc2def21eda",
        "colab": {
          "base_uri": "https://localhost:8080/"
        }
      },
      "execution_count": 13,
      "outputs": [
        {
          "output_type": "stream",
          "name": "stdout",
          "text": [
            "True\n",
            "True\n",
            "False\n",
            "False\n"
          ]
        }
      ]
    },
    {
      "cell_type": "code",
      "source": [
        "#Unite 85 예제\n",
        "txt1='010-1234-5678'\n",
        "txt2='R2D2'\n",
        "txt3='1212'\n",
        "ret1=txt1.isdigit()\n",
        "ret2=txt2.isdigit()\n",
        "ret3=txt3.isdigit()\n",
        "print(ret1)\n",
        "print(ret2)\n",
        "print(ret3)"
      ],
      "metadata": {
        "id": "8Dxk_kZxB6RW",
        "outputId": "fed3dbd0-6b47-4fa5-8296-38b39ce5afd7",
        "colab": {
          "base_uri": "https://localhost:8080/"
        }
      },
      "execution_count": 14,
      "outputs": [
        {
          "output_type": "stream",
          "name": "stdout",
          "text": [
            "False\n",
            "False\n",
            "True\n"
          ]
        }
      ]
    }
  ],
  "metadata": {
    "colab": {
      "name": "Colab 시작하기",
      "toc_visible": true,
      "provenance": [],
      "include_colab_link": true
    },
    "kernelspec": {
      "display_name": "Python 3",
      "name": "python3"
    }
  },
  "nbformat": 4,
  "nbformat_minor": 0
}