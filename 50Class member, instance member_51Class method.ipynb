{
  "cells": [
    {
      "cell_type": "markdown",
      "metadata": {
        "id": "view-in-github",
        "colab_type": "text"
      },
      "source": [
        "<a href=\"https://colab.research.google.com/github/25jhm/Exercise_2025/blob/main/50Class%20member%2C%20instance%20member_51Class%20method.ipynb\" target=\"_parent\"><img src=\"https://colab.research.google.com/assets/colab-badge.svg\" alt=\"Open In Colab\"/></a>"
      ]
    },
    {
      "cell_type": "code",
      "source": [
        "#Unite 50 예제\n",
        "class MyClass:\n",
        "  var='안녕하세요'\n",
        "  def sayHello(self):\n",
        "    param1='안녕'\n",
        "    self.param2='하이'\n",
        "    print(param1)\n",
        "    print(self.var)\n",
        "\n",
        "obj=MyClass()\n",
        "print(obj.var)\n",
        "obj.sayHello()\n",
        "#obj.param1"
      ],
      "metadata": {
        "id": "UkvDNcobOCQ8",
        "outputId": "dfc723f5-37bd-4924-d022-d5c4ab1f2372",
        "colab": {
          "base_uri": "https://localhost:8080/"
        }
      },
      "execution_count": 10,
      "outputs": [
        {
          "output_type": "stream",
          "name": "stdout",
          "text": [
            "안녕하세요\n",
            "안녕\n",
            "안녕하세요\n"
          ]
        }
      ]
    },
    {
      "cell_type": "code",
      "source": [
        "#Unite 51 예제\n",
        "class MyClass:\n",
        "  def sayHello(self):\n",
        "    print('안녕하세요')\n",
        "\n",
        "  def sayBye(self,name):\n",
        "    print('%s! 다음에 보자!'%name)\n",
        "\n",
        "obj=MyClass()\n",
        "obj.sayHello()\n",
        "obj.sayBye('철수')"
      ],
      "metadata": {
        "id": "Fr_bF3-uPcS4",
        "outputId": "7c8f2fc6-b472-43b8-9df0-91b8398ad5f2",
        "colab": {
          "base_uri": "https://localhost:8080/"
        }
      },
      "execution_count": 13,
      "outputs": [
        {
          "output_type": "stream",
          "name": "stdout",
          "text": [
            "안녕하세요\n",
            "철수! 다음에 보자!\n"
          ]
        }
      ]
    }
  ],
  "metadata": {
    "colab": {
      "name": "Colab 시작하기",
      "toc_visible": true,
      "provenance": [],
      "include_colab_link": true
    },
    "kernelspec": {
      "display_name": "Python 3",
      "name": "python3"
    }
  },
  "nbformat": 4,
  "nbformat_minor": 0
}