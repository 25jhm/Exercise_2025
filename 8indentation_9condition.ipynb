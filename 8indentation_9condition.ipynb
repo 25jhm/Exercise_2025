{
  "cells": [
    {
      "cell_type": "markdown",
      "metadata": {
        "id": "view-in-github",
        "colab_type": "text"
      },
      "source": [
        "<a href=\"https://colab.research.google.com/github/25jhm/Exercise_2025/blob/main/8indentation_9if~else.ipynb\" target=\"_parent\"><img src=\"https://colab.research.google.com/assets/colab-badge.svg\" alt=\"Open In Colab\"/></a>"
      ]
    },
    {
      "cell_type": "code",
      "source": [
        "# Unite 8 예제\n",
        "listdata=['a','b','c']\n",
        "if 'a' in listdata:\n",
        "  print('a가 listdata에 있습니다')\n",
        "  print(listdata)\n",
        "else:\n",
        "  print('a가 listdata에 존재 하지 않습니다')\n"
      ],
      "metadata": {
        "id": "Joe6iJZCdyrK",
        "outputId": "21384948-7164-48d0-fbac-b864b693deb7",
        "colab": {
          "base_uri": "https://localhost:8080/"
        }
      },
      "execution_count": 13,
      "outputs": [
        {
          "output_type": "stream",
          "name": "stdout",
          "text": [
            "a가 listdata에 있습니다\n",
            "['a', 'b', 'c']\n"
          ]
        }
      ]
    },
    {
      "cell_type": "code",
      "source": [
        "# Unite 9 예제\n",
        "x=1\n",
        "y=2\n",
        "if x>=y:\n",
        "  print('x가 y보다 크거나 같습니다')\n",
        "else:\n",
        "  print('x가 y보다 작습니다')\n"
      ],
      "metadata": {
        "id": "SMzRmsD8fJR1",
        "outputId": "b01de9fc-955f-4203-ec77-eea16911da22",
        "colab": {
          "base_uri": "https://localhost:8080/"
        }
      },
      "execution_count": 18,
      "outputs": [
        {
          "output_type": "stream",
          "name": "stdout",
          "text": [
            "x가 y보다 작습니다\n"
          ]
        }
      ]
    }
  ],
  "metadata": {
    "colab": {
      "name": "Colab 시작하기",
      "toc_visible": true,
      "provenance": [],
      "include_colab_link": true
    },
    "kernelspec": {
      "display_name": "Python 3",
      "name": "python3"
    }
  },
  "nbformat": 4,
  "nbformat_minor": 0
}
