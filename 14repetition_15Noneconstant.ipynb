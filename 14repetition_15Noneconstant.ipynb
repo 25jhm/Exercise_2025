{
  "cells": [
    {
      "cell_type": "markdown",
      "metadata": {
        "id": "view-in-github",
        "colab_type": "text"
      },
      "source": [
        "<a href=\"https://colab.research.google.com/github/25jhm/Exercise_2025/blob/main/14repetition_15Noneconstant.ipynb\" target=\"_parent\"><img src=\"https://colab.research.google.com/assets/colab-badge.svg\" alt=\"Open In Colab\"/></a>"
      ]
    },
    {
      "cell_type": "code",
      "source": [
        "#Unit 14 예제\n",
        "x=0\n",
        "while x<10:\n",
        "  x=x+1\n",
        "  if x<3:\n",
        "    continue\n",
        "  print(x)\n",
        "  if x>7:\n",
        "    break\n"
      ],
      "metadata": {
        "id": "yNgwyRdukfRV",
        "outputId": "fec53d54-b043-435e-df84-7f0b11762e05",
        "colab": {
          "base_uri": "https://localhost:8080/"
        }
      },
      "execution_count": 24,
      "outputs": [
        {
          "output_type": "stream",
          "name": "stdout",
          "text": [
            "3\n",
            "4\n",
            "5\n",
            "6\n",
            "7\n",
            "8\n"
          ]
        }
      ]
    },
    {
      "cell_type": "code",
      "source": [
        "x=1\n",
        "total=0\n",
        "while 1:\n",
        "  total=total+x\n",
        "  if total>100000:\n",
        "    print(x)\n",
        "    print(total)\n",
        "    break\n",
        "x=x+1\n"
      ],
      "metadata": {
        "id": "h8Qgv_DSk9wS",
        "outputId": "3bda5711-aa51-4ad2-a173-5d0137ac99b0",
        "colab": {
          "base_uri": "https://localhost:8080/"
        }
      },
      "execution_count": 25,
      "outputs": [
        {
          "output_type": "stream",
          "name": "stdout",
          "text": [
            "1\n",
            "100001\n"
          ]
        }
      ]
    },
    {
      "cell_type": "code",
      "source": [
        "#Unit 15 예제\n",
        "val=None\n",
        "condition=1\n",
        "if condition==1:\n",
        "  val=[1,2,3]\n",
        "else:\n",
        "  val='I love Python'"
      ],
      "metadata": {
        "id": "oCd6CWL3mR04"
      },
      "execution_count": 27,
      "outputs": []
    }
  ],
  "metadata": {
    "colab": {
      "name": "Colab 시작하기",
      "toc_visible": true,
      "provenance": [],
      "include_colab_link": true
    },
    "kernelspec": {
      "display_name": "Python 3",
      "name": "python3"
    }
  },
  "nbformat": 4,
  "nbformat_minor": 0
}