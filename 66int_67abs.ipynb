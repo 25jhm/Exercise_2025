{
  "cells": [
    {
      "cell_type": "markdown",
      "metadata": {
        "id": "view-in-github",
        "colab_type": "text"
      },
      "source": [
        "<a href=\"https://colab.research.google.com/github/25jhm/Exercise_2025/blob/main/66int_67abs.ipynb\" target=\"_parent\"><img src=\"https://colab.research.google.com/assets/colab-badge.svg\" alt=\"Open In Colab\"/></a>"
      ]
    },
    {
      "cell_type": "code",
      "source": [
        "#Unite 66 예제\n",
        "bnum=0b11110000; bstr='0b11110000'\n",
        "onum=0o360; ostr='0o360'\n",
        "hnum=0xf0; hstr='0xf0'\n",
        "b1=int(bnum);b2=int(bstr,2)\n",
        "o1=int(onum);o2=int(ostr,8)\n",
        "h1=int(hnum);h2=int(hstr,16)\n",
        "print(b1);print(b2)\n",
        "print(o1);print(o2)\n",
        "print(h1);print(h2)"
      ],
      "metadata": {
        "id": "rOLw9ox-93Kp",
        "outputId": "33f1257e-7631-4bf2-b169-1386dc5594d9",
        "colab": {
          "base_uri": "https://localhost:8080/"
        }
      },
      "execution_count": 12,
      "outputs": [
        {
          "output_type": "stream",
          "name": "stdout",
          "text": [
            "240\n",
            "240\n",
            "240\n",
            "240\n",
            "240\n",
            "240\n"
          ]
        }
      ]
    },
    {
      "cell_type": "code",
      "source": [
        "#Unite 67 예제\n",
        "abs1=abs(-3)\n",
        "abs2=abs(-5.72)\n",
        "abs3=abs(3+4j)\n",
        "print(abs1)\n",
        "print(abs2)\n",
        "print(abs3)"
      ],
      "metadata": {
        "id": "DmaF0YrX_TWc",
        "outputId": "a675f48b-d2b6-4002-9a7d-ce274dddf026",
        "colab": {
          "base_uri": "https://localhost:8080/"
        }
      },
      "execution_count": 13,
      "outputs": [
        {
          "output_type": "stream",
          "name": "stdout",
          "text": [
            "3\n",
            "5.72\n",
            "5.0\n"
          ]
        }
      ]
    }
  ],
  "metadata": {
    "colab": {
      "name": "Colab 시작하기",
      "toc_visible": true,
      "provenance": [],
      "include_colab_link": true
    },
    "kernelspec": {
      "display_name": "Python 3",
      "name": "python3"
    }
  },
  "nbformat": 4,
  "nbformat_minor": 0
}