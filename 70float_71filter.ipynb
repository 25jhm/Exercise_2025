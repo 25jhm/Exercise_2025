{
  "cells": [
    {
      "cell_type": "markdown",
      "metadata": {
        "id": "view-in-github",
        "colab_type": "text"
      },
      "source": [
        "<a href=\"https://colab.research.google.com/github/25jhm/Exercise_2025/blob/main/70float_71filter.ipynb\" target=\"_parent\"><img src=\"https://colab.research.google.com/assets/colab-badge.svg\" alt=\"Open In Colab\"/></a>"
      ]
    },
    {
      "cell_type": "code",
      "source": [
        "#Unite 70 예제\n",
        "fdata=float(10)\n",
        "print(fdata)"
      ],
      "metadata": {
        "id": "1yxItPFOBgkO",
        "outputId": "a153d8d3-a47e-4f51-92f2-d1bd8563d8fc",
        "colab": {
          "base_uri": "https://localhost:8080/"
        }
      },
      "execution_count": 17,
      "outputs": [
        {
          "output_type": "stream",
          "name": "stdout",
          "text": [
            "10.0\n"
          ]
        }
      ]
    },
    {
      "cell_type": "code",
      "source": [
        "#Unite 71 예제\n",
        "def getPrime(x):\n",
        "  if x%2== 0:\n",
        "    return\n",
        "\n",
        "  for i in range(3,int(x/2),2):\n",
        "    if x%i== 0:\n",
        "      break\n",
        "\n",
        "  else:\n",
        "    return x\n",
        "\n",
        "listdata=[117,119,113,11113,11119]\n",
        "ret=filter(getPrime,listdata)\n",
        "print(list(ret))\n"
      ],
      "metadata": {
        "id": "yzn4jlSLBsoy",
        "outputId": "895d052d-6057-4b26-b14c-0e53e392b7e4",
        "colab": {
          "base_uri": "https://localhost:8080/"
        }
      },
      "execution_count": 22,
      "outputs": [
        {
          "output_type": "stream",
          "name": "stdout",
          "text": [
            "[113, 11113, 11119]\n"
          ]
        }
      ]
    }
  ],
  "metadata": {
    "colab": {
      "name": "Colab 시작하기",
      "toc_visible": true,
      "provenance": [],
      "include_colab_link": true
    },
    "kernelspec": {
      "display_name": "Python 3",
      "name": "python3"
    }
  },
  "nbformat": 4,
  "nbformat_minor": 0
}