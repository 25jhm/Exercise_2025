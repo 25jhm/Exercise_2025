{
  "cells": [
    {
      "cell_type": "markdown",
      "metadata": {
        "id": "view-in-github",
        "colab_type": "text"
      },
      "source": [
        "<a href=\"https://colab.research.google.com/github/25jhm/Exercise_2025/blob/main/96Encode_97Decode.ipynb\" target=\"_parent\"><img src=\"https://colab.research.google.com/assets/colab-badge.svg\" alt=\"Open In Colab\"/></a>"
      ]
    },
    {
      "cell_type": "code",
      "source": [
        "#Unite 96 예제\n",
        "u_txt='I love python'\n",
        "b_txt=u_txt.encode()\n",
        "print(u_txt)\n",
        "print(b_txt)\n",
        "\n",
        "ret1='I'==u_txt[0]\n",
        "ret2='I'==b_txt[0]\n",
        "print(ret1)\n",
        "print(ret2)"
      ],
      "metadata": {
        "id": "41FiKsfcOQ7O",
        "outputId": "45f90758-3caa-4f30-d9b5-44ea107be4c8",
        "colab": {
          "base_uri": "https://localhost:8080/"
        }
      },
      "execution_count": 14,
      "outputs": [
        {
          "output_type": "stream",
          "name": "stdout",
          "text": [
            "I love python\n",
            "b'I love python'\n",
            "True\n",
            "False\n"
          ]
        }
      ]
    },
    {
      "cell_type": "code",
      "source": [
        "#Unite 97 예제\n",
        "b_txt=b'A lot of things occur each day.'\n",
        "u_txt=b_txt.decode()\n",
        "print(u_txt)"
      ],
      "metadata": {
        "id": "LQxqADnCPH0z",
        "outputId": "df288a65-a0fc-4771-ba0a-dc57a78e3819",
        "colab": {
          "base_uri": "https://localhost:8080/"
        }
      },
      "execution_count": 15,
      "outputs": [
        {
          "output_type": "stream",
          "name": "stdout",
          "text": [
            "A lot of things occur each day.\n"
          ]
        }
      ]
    }
  ],
  "metadata": {
    "colab": {
      "name": "Colab 시작하기",
      "toc_visible": true,
      "provenance": [],
      "include_colab_link": true
    },
    "kernelspec": {
      "display_name": "Python 3",
      "name": "python3"
    }
  },
  "nbformat": 4,
  "nbformat_minor": 0
}