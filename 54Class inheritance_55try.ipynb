{
  "cells": [
    {
      "cell_type": "markdown",
      "metadata": {
        "id": "view-in-github",
        "colab_type": "text"
      },
      "source": [
        "<a href=\"https://colab.research.google.com/github/25jhm/Exercise_2025/blob/main/54Class%20inheritance_55try.ipynb\" target=\"_parent\"><img src=\"https://colab.research.google.com/assets/colab-badge.svg\" alt=\"Open In Colab\"/></a>"
      ]
    },
    {
      "cell_type": "code",
      "source": [
        "#Unite 18 예제\n",
        "class Add:\n",
        "  def add(self,n1,n2):\n",
        "    return n1+n2\n",
        "\n",
        "class Calculator(Add):\n",
        "  def sub(self,n1,n2):\n",
        "    return n1-n2\n",
        "\n",
        "obj=Calculator()\n",
        "print(obj.add(1,2))\n",
        "print(obj.sub(1,2))"
      ],
      "metadata": {
        "id": "qFFITiszTfi4",
        "outputId": "25572a91-f9da-4046-b545-d7320c8d0257",
        "colab": {
          "base_uri": "https://localhost:8080/"
        }
      },
      "execution_count": 17,
      "outputs": [
        {
          "output_type": "stream",
          "name": "stdout",
          "text": [
            "3\n",
            "-1\n"
          ]
        }
      ]
    },
    {
      "cell_type": "code",
      "source": [
        "class Add:\n",
        "  def add(self,n1,n2):\n",
        "    return n1+n2\n",
        "\n",
        "class Multiply:\n",
        "  def Multiply(self,n1,n2):\n",
        "    return n1*n2\n",
        "\n",
        "class  Calculator(Multiply,Add):\n",
        "  def sub(self,n1,n2):\n",
        "    return n1-n2\n",
        "\n",
        "obj=Calculator()\n",
        "print(obj.add(1,2))\n",
        "print(obj.Multiply(3,2))"
      ],
      "metadata": {
        "id": "p6c2M3HKUWFH",
        "outputId": "3a9f7d3c-9226-43fd-9bdb-0173242742d3",
        "colab": {
          "base_uri": "https://localhost:8080/"
        }
      },
      "execution_count": 19,
      "outputs": [
        {
          "output_type": "stream",
          "name": "stdout",
          "text": [
            "3\n",
            "6\n"
          ]
        }
      ]
    },
    {
      "cell_type": "code",
      "source": [
        "#Unite 55 예제\n",
        "try:\n",
        "  print('안녕하세요.')\n",
        "  print(param)\n",
        "except:\n",
        "  print('예외가 발생했습니다!')\n",
        "\n"
      ],
      "metadata": {
        "id": "DHKbzeafVNsB",
        "outputId": "3333cdbb-b315-4ffd-afab-0da893eab402",
        "colab": {
          "base_uri": "https://localhost:8080/"
        }
      },
      "execution_count": 21,
      "outputs": [
        {
          "output_type": "stream",
          "name": "stdout",
          "text": [
            "안녕하세요.\n",
            "예외가 발생했습니다!\n"
          ]
        }
      ]
    }
  ],
  "metadata": {
    "colab": {
      "name": "Colab 시작하기",
      "toc_visible": true,
      "provenance": [],
      "include_colab_link": true
    },
    "kernelspec": {
      "display_name": "Python 3",
      "name": "python3"
    }
  },
  "nbformat": 4,
  "nbformat_minor": 0
}