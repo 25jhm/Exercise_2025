{
  "cells": [
    {
      "cell_type": "markdown",
      "metadata": {
        "id": "view-in-github",
        "colab_type": "text"
      },
      "source": [
        "<a href=\"https://colab.research.google.com/github/25jhm/Exercise_2025/blob/main/76String_77An%20odd%20string.ipynb\" target=\"_parent\"><img src=\"https://colab.research.google.com/assets/colab-badge.svg\" alt=\"Open In Colab\"/></a>"
      ]
    },
    {
      "cell_type": "code",
      "source": [
        "#Unite 76 예제\n",
        "txt1='A tale that was not right'\n",
        "txt2='이 또한 지나가리라.'\n",
        "print(txt1[3:7])\n",
        "print(txt1[:6])\n",
        "print(txt2[-4:])"
      ],
      "metadata": {
        "id": "lmkeKCl87Agg",
        "outputId": "1255532a-99ec-41e0-f0cd-f42451d384e0",
        "colab": {
          "base_uri": "https://localhost:8080/"
        }
      },
      "execution_count": 4,
      "outputs": [
        {
          "output_type": "stream",
          "name": "stdout",
          "text": [
            "ale \n",
            "A tale\n",
            "가리라.\n"
          ]
        }
      ]
    },
    {
      "cell_type": "code",
      "source": [
        "#Unite 77 예제\n",
        "txt='aAbBcCdDeEfFgGhHiIjJkK'\n",
        "ret=txt[::2]\n",
        "print(ret)"
      ],
      "metadata": {
        "id": "LOgl_jln7iYK",
        "outputId": "284585d4-bdb7-41be-f1d4-f2970393ce05",
        "colab": {
          "base_uri": "https://localhost:8080/"
        }
      },
      "execution_count": 5,
      "outputs": [
        {
          "output_type": "stream",
          "name": "stdout",
          "text": [
            "abcdefghijk\n"
          ]
        }
      ]
    }
  ],
  "metadata": {
    "colab": {
      "name": "Colab 시작하기",
      "toc_visible": true,
      "provenance": [],
      "include_colab_link": true
    },
    "kernelspec": {
      "display_name": "Python 3",
      "name": "python3"
    }
  },
  "nbformat": 4,
  "nbformat_minor": 0
}